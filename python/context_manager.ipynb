{
 "cells": [
  {
   "cell_type": "markdown",
   "metadata": {},
   "source": [
    "A context manager is a class that implements `__enter__()` and `__exit__()`\n",
    "\n",
    "The context manager object will be used in `with` statement.\n",
    "```python\n",
    "with context_manager() as f: (1)\n",
    "    ... (2)\n",
    "\n",
    "# end of with statement scope\n",
    "... (3)\n",
    "```\n",
    "(1) create a context manager object with `context_manager()`. `__enter__()` will be invoked and whatever value returned will be assigned to `f`<br>\n",
    "(2) statements run inside our **context**<br>\n",
    "(3) right after the context is exited, `__exit__()` was called then statements outside **context** will be run\n",
    "\n",
    "`__enter__(self)` **doesn't** needs to return a `context_manager` object. However, the returned value could be assigned to an itermediate variable which is accessible inside the scope of `with` statement and event **outside** of the scope, i.e. the variable is still accessible after exiting the `with` scope.<br>\n",
    "It's ensured that `__exit__()` will be called, even in case of exception."
   ]
  },
  {
   "cell_type": "code",
   "execution_count": 6,
   "metadata": {},
   "outputs": [
    {
     "name": "stdout",
     "output_type": "stream",
     "text": [
      "Initiating a context\n",
      "Entering context\n",
      "Inside a context with object: <__main__.context_manager object at 0x000001C463754A90>\n",
      "Exiting context\n",
      "Outside a context with object: <__main__.context_manager object at 0x000001C463754A90>\n"
     ]
    }
   ],
   "source": [
    "class context_manager:\n",
    "    \n",
    "    def __init__(self):\n",
    "        print('Initiating a context')\n",
    "        \n",
    "    def __enter__(self):\n",
    "        print('Entering context')\n",
    "        \n",
    "        return self\n",
    "    \n",
    "    def __exit__(*args, **kwargs):\n",
    "        print('Exiting context')\n",
    "        \n",
    "        return None\n",
    "    \n",
    "with context_manager() as ctx:\n",
    "    print('Inside a context with object:', ctx)\n",
    "    \n",
    "print('Outside a context with object:', ctx)"
   ]
  },
  {
   "cell_type": "code",
   "execution_count": 12,
   "metadata": {},
   "outputs": [
    {
     "name": "stdout",
     "output_type": "stream",
     "text": [
      "Initiating a context\n",
      "Entering context\n",
      "Inside a context with object: None\n",
      "Exiting context with called args: (<__main__.context_manager object at 0x000001C46376EC70>, None, None, None) {}\n",
      "Outside a context with object: None\n"
     ]
    }
   ],
   "source": [
    "class context_manager:\n",
    "    \n",
    "    def __init__(self):\n",
    "        print('Initiating a context')\n",
    "        \n",
    "    def __enter__(self):\n",
    "        print('Entering context')\n",
    "        \n",
    "        return None  # __enter__ doesn't necessarily return any value here.\n",
    "    \n",
    "    def __exit__(*args, **kwargs):\n",
    "        print('Exiting context with called args:', args, kwargs)\n",
    "        \n",
    "        return None\n",
    "    \n",
    "with context_manager() as ctx:\n",
    "    print('Inside a context with object:', ctx)\n",
    "    \n",
    "print('Outside a context with object:', ctx)"
   ]
  },
  {
   "cell_type": "markdown",
   "metadata": {},
   "source": [
    "Technically, `__enter__()` doesn't need to return any value but this is exactly how `context_manager` shines.\n",
    "\n",
    "# Use cases\n",
    "1. Temporarily create a \"context\" which is short-lived and to be cleaned up afterward\n",
    "    > A classic and most prequently used context manager is `open()` function. You open a file, do something with it and need to make sure the file will be closed after you're done with all file writing/reading operations.\n",
    "    ```python\n",
    "    with open('myfile.txt') as f:\n",
    "        f.write('content')\n",
    "    # you could be sure that myfile.txt is properly closed, even you didn't explicitly callf.closed()\n",
    "    ```\n",
    "\n",
    "    > Another useful example is to temporily create a test table in a database, do something with it and drop the table after you're done as per below implementation\n",
    "        "
   ]
  },
  {
   "cell_type": "code",
   "execution_count": 21,
   "metadata": {},
   "outputs": [
    {
     "name": "stdout",
     "output_type": "stream",
     "text": [
      "Initiate a sqlite3 database\n",
      "table my_table created successfully\n",
      "('An', 32)\n",
      "('Vien', 32)\n",
      "table my_table is dropped successfully\n"
     ]
    },
    {
     "ename": "OperationalError",
     "evalue": "no such table: my_table",
     "output_type": "error",
     "traceback": [
      "\u001b[1;31m---------------------------------------------------------------------------\u001b[0m",
      "\u001b[1;31mOperationalError\u001b[0m                          Traceback (most recent call last)",
      "\u001b[1;32m<ipython-input-21-88bb38524674>\u001b[0m in \u001b[0;36m<module>\u001b[1;34m\u001b[0m\n\u001b[0;32m     36\u001b[0m         \u001b[0mprint\u001b[0m\u001b[1;33m(\u001b[0m\u001b[0mrecord\u001b[0m\u001b[1;33m)\u001b[0m\u001b[1;33m\u001b[0m\u001b[1;33m\u001b[0m\u001b[0m\n\u001b[0;32m     37\u001b[0m \u001b[1;33m\u001b[0m\u001b[0m\n\u001b[1;32m---> 38\u001b[1;33m \u001b[0mrecords\u001b[0m \u001b[1;33m=\u001b[0m \u001b[0mconn\u001b[0m\u001b[1;33m.\u001b[0m\u001b[0mexecute\u001b[0m\u001b[1;33m(\u001b[0m\u001b[1;34m'Select * from my_table'\u001b[0m\u001b[1;33m)\u001b[0m\u001b[1;33m\u001b[0m\u001b[1;33m\u001b[0m\u001b[0m\n\u001b[0m\u001b[0;32m     39\u001b[0m \u001b[1;32mfor\u001b[0m \u001b[0mrecord\u001b[0m \u001b[1;32min\u001b[0m \u001b[0mrecords\u001b[0m\u001b[1;33m:\u001b[0m\u001b[1;33m\u001b[0m\u001b[1;33m\u001b[0m\u001b[0m\n\u001b[0;32m     40\u001b[0m     \u001b[0mprint\u001b[0m\u001b[1;33m(\u001b[0m\u001b[0mrecord\u001b[0m\u001b[1;33m)\u001b[0m\u001b[1;33m\u001b[0m\u001b[1;33m\u001b[0m\u001b[0m\n",
      "\u001b[1;31mOperationalError\u001b[0m: no such table: my_table"
     ]
    }
   ],
   "source": [
    "import sqlite3\n",
    "\n",
    "class database:\n",
    "    \n",
    "    def __init__(self, test_table_name):\n",
    "        print('Initiate a sqlite3 database')\n",
    "        self.connection = sqlite3.connect(\":memory:\")  # create a new connection to an in-memory database\n",
    "        self.test_table_name = test_table_name\n",
    "        \n",
    "    def __enter__(self):\n",
    "        # Upon entering context, create the test_table_name\n",
    "        sql = f'''create table {self.test_table_name}\n",
    "        (NAME TEXT NOT NULL,\n",
    "        AGE INT NOT NULL\n",
    "        )\n",
    "        '''\n",
    "        self.connection.execute(sql)\n",
    "        \n",
    "        print(f'table {self.test_table_name} created successfully')\n",
    "        \n",
    "        return self.connection  # return the connection to interact with our db\n",
    "    \n",
    "    def __exit__(self, *args, **kwargs):\n",
    "        sql = f'drop table {self.test_table_name}'\n",
    "        self.connection.execute(sql)\n",
    "        \n",
    "        print(f'table {self.test_table_name} is dropped successfully')\n",
    "        \n",
    "        return None\n",
    "    \n",
    "with database('my_table') as conn:\n",
    "    conn.execute('Insert into my_table (Name, age) values (\"An\", 32)')\n",
    "    conn.execute('Insert into my_table (Name, age) values (\"Vien\", 32)')\n",
    "    records = conn.execute('Select * from my_table')\n",
    "    for record in records:\n",
    "        print(record)\n",
    "        \n",
    "records = conn.execute('Select * from my_table')\n",
    "for record in records:\n",
    "    print(record)"
   ]
  },
  {
   "cell_type": "markdown",
   "metadata": {},
   "source": [
    "Even if there is an exception during execution within `with` statement, the `__exit__()` method will be called to drop the test table."
   ]
  },
  {
   "cell_type": "code",
   "execution_count": 30,
   "metadata": {},
   "outputs": [
    {
     "name": "stdout",
     "output_type": "stream",
     "text": [
      "Initiate a sqlite3 database\n",
      "table my_table created successfully\n",
      "table my_table is dropped successfully\n",
      "Something went wrong\n"
     ]
    },
    {
     "ename": "OperationalError",
     "evalue": "no such table: my_table",
     "output_type": "error",
     "traceback": [
      "\u001b[1;31m---------------------------------------------------------------------------\u001b[0m",
      "\u001b[1;31mOperationalError\u001b[0m                          Traceback (most recent call last)",
      "\u001b[1;32m<ipython-input-30-e2f1e8e19afe>\u001b[0m in \u001b[0;36m<module>\u001b[1;34m\u001b[0m\n\u001b[0;32m     43\u001b[0m     \u001b[0mprint\u001b[0m\u001b[1;33m(\u001b[0m\u001b[0me\u001b[0m\u001b[1;33m)\u001b[0m\u001b[1;33m\u001b[0m\u001b[1;33m\u001b[0m\u001b[0m\n\u001b[0;32m     44\u001b[0m \u001b[1;33m\u001b[0m\u001b[0m\n\u001b[1;32m---> 45\u001b[1;33m \u001b[0mrecords\u001b[0m \u001b[1;33m=\u001b[0m \u001b[0mconn\u001b[0m\u001b[1;33m.\u001b[0m\u001b[0mexecute\u001b[0m\u001b[1;33m(\u001b[0m\u001b[1;34m'Select * from my_table'\u001b[0m\u001b[1;33m)\u001b[0m\u001b[1;33m\u001b[0m\u001b[1;33m\u001b[0m\u001b[0m\n\u001b[0m\u001b[0;32m     46\u001b[0m \u001b[1;32mfor\u001b[0m \u001b[0mrecord\u001b[0m \u001b[1;32min\u001b[0m \u001b[0mrecords\u001b[0m\u001b[1;33m:\u001b[0m\u001b[1;33m\u001b[0m\u001b[1;33m\u001b[0m\u001b[0m\n\u001b[0;32m     47\u001b[0m     \u001b[0mprint\u001b[0m\u001b[1;33m(\u001b[0m\u001b[0mrecord\u001b[0m\u001b[1;33m)\u001b[0m\u001b[1;33m\u001b[0m\u001b[1;33m\u001b[0m\u001b[0m\n",
      "\u001b[1;31mOperationalError\u001b[0m: no such table: my_table"
     ]
    }
   ],
   "source": [
    "import sqlite3\n",
    "\n",
    "class database:\n",
    "    \n",
    "    def __init__(self, test_table_name):\n",
    "        print('Initiate a sqlite3 database')\n",
    "        self.connection = sqlite3.connect(\":memory:\")  # create a new connection to an in-memory database\n",
    "        self.test_table_name = test_table_name\n",
    "        \n",
    "    def __enter__(self):\n",
    "        # Upon entering context, create the test_table_name\n",
    "        sql = f'''create table {self.test_table_name}\n",
    "        (NAME TEXT NOT NULL,\n",
    "        AGE INT NOT NULL\n",
    "        )\n",
    "        '''\n",
    "        self.connection.execute(sql)\n",
    "        \n",
    "        print(f'table {self.test_table_name} created successfully')\n",
    "        \n",
    "        return self.connection  # return the connection to interact with our db\n",
    "    \n",
    "    def __exit__(self, *args, **kwargs):\n",
    "        sql = f'drop table {self.test_table_name}'\n",
    "        self.connection.execute(sql)\n",
    "        \n",
    "        print(f'table {self.test_table_name} is dropped successfully')\n",
    "        \n",
    "        return None\n",
    "\n",
    "try:\n",
    "    with database('my_table') as conn:\n",
    "        conn.execute('Insert into my_table (Name, age) values (\"An\", 32)')\n",
    "        conn.execute('Insert into my_table (Name, age) values (\"Vien\", 32)')\n",
    "\n",
    "        # Raise an arbitrarily exception\n",
    "        raise Exception(\"Something went wrong\")\n",
    "\n",
    "        records = conn.execute('Select * from my_table')\n",
    "        for record in records:\n",
    "            print(record)\n",
    "except Exception as e:\n",
    "    print(e)\n",
    "        \n",
    "records = conn.execute('Select * from my_table')\n",
    "for record in records:\n",
    "    print(record)"
   ]
  },
  {
   "cell_type": "code",
   "execution_count": 37,
   "metadata": {},
   "outputs": [
    {
     "name": "stdout",
     "output_type": "stream",
     "text": [
      "Init MyCtxMng\n",
      "Cooking the function: <function myfunc at 0x000001C4649FF700>\n",
      "Init MyCtxMng\n",
      "Entering context\n",
      "Hello there\n",
      "Exiting context\n",
      "\n",
      "\n",
      "Init MyCtxMng\n",
      "Entering context\n",
      "Hello\n",
      "Exiting context\n"
     ]
    }
   ],
   "source": [
    "class ContextDecorator:\n",
    "    \n",
    "    def __call__(self, func):\n",
    "        if func:\n",
    "            print('Cooking the function:', func)\n",
    "            def wrapped_ctx(*args, **kwargs):\n",
    "                with MyCtxMng() as ctx:\n",
    "                    func(*args, **kwargs)\n",
    "\n",
    "            return wrapped_ctx\n",
    "        \n",
    "class MyCtxMng(ContextDecorator):\n",
    "    \n",
    "    def __init__(self):\n",
    "        print('Init MyCtxMng')\n",
    "        \n",
    "    \n",
    "    def __enter__(self):\n",
    "        print('Entering context')\n",
    "        \n",
    "    def __exit__(self, *args, **kwargs):\n",
    "        print('Exiting context')\n",
    "        \n",
    "@MyCtxMng()\n",
    "def myfunc(msg):\n",
    "    print(msg)\n",
    "    \n",
    "myfunc('Hello there')\n",
    "print('\\n')\n",
    "with MyCtxMng():\n",
    "    print('Hello')"
   ]
  },
  {
   "cell_type": "markdown",
   "metadata": {},
   "source": [
    "# contextlib\n",
    "## contextmanager\n",
    "This is a decorator that will turn a generator into a context manager when used in `with` block."
   ]
  },
  {
   "cell_type": "code",
   "execution_count": 2,
   "metadata": {},
   "outputs": [
    {
     "name": "stdout",
     "output_type": "stream",
     "text": [
      "Enter Context\n",
      "Do something\n",
      "Exit context\n"
     ]
    }
   ],
   "source": [
    "from contextlib import contextmanager\n",
    "\n",
    "@contextmanager\n",
    "def simple_generator():\n",
    "    print('Enter Context')\n",
    "    yield\n",
    "    print('Exit context')\n",
    "    \n",
    "with simple_generator() as a:\n",
    "    print('Do something')"
   ]
  },
  {
   "cell_type": "markdown",
   "metadata": {},
   "source": [
    "The implementation is roughly as below"
   ]
  },
  {
   "cell_type": "code",
   "execution_count": 10,
   "metadata": {},
   "outputs": [
    {
     "name": "stdout",
     "output_type": "stream",
     "text": [
      "Enter Context\n",
      "Do something\n",
      "Exit context\n"
     ]
    },
    {
     "ename": "StopIteration",
     "evalue": "",
     "output_type": "error",
     "traceback": [
      "\u001b[1;31m---------------------------------------------------------------------------\u001b[0m",
      "\u001b[1;31mStopIteration\u001b[0m                             Traceback (most recent call last)",
      "\u001b[1;32m<ipython-input-10-c827e68e43f7>\u001b[0m in \u001b[0;36m<module>\u001b[1;34m\u001b[0m\n\u001b[0;32m     29\u001b[0m \u001b[1;32mwith\u001b[0m \u001b[0mcm\u001b[0m\u001b[1;33m:\u001b[0m\u001b[1;33m\u001b[0m\u001b[1;33m\u001b[0m\u001b[0m\n\u001b[0;32m     30\u001b[0m     \u001b[0mprint\u001b[0m\u001b[1;33m(\u001b[0m\u001b[1;34m'Do something'\u001b[0m\u001b[1;33m)\u001b[0m\u001b[1;33m\u001b[0m\u001b[1;33m\u001b[0m\u001b[0m\n\u001b[1;32m---> 31\u001b[1;33m \u001b[1;32mwith\u001b[0m \u001b[0mcm\u001b[0m\u001b[1;33m:\u001b[0m\u001b[1;33m\u001b[0m\u001b[1;33m\u001b[0m\u001b[0m\n\u001b[0m\u001b[0;32m     32\u001b[0m     \u001b[0mprint\u001b[0m\u001b[1;33m(\u001b[0m\u001b[1;34m'Do something'\u001b[0m\u001b[1;33m)\u001b[0m\u001b[1;33m\u001b[0m\u001b[1;33m\u001b[0m\u001b[0m\n",
      "\u001b[1;32m<ipython-input-10-c827e68e43f7>\u001b[0m in \u001b[0;36m__enter__\u001b[1;34m(self)\u001b[0m\n\u001b[0;32m      9\u001b[0m \u001b[1;33m\u001b[0m\u001b[0m\n\u001b[0;32m     10\u001b[0m         \u001b[1;32mdef\u001b[0m \u001b[0m__enter__\u001b[0m\u001b[1;33m(\u001b[0m\u001b[0mself\u001b[0m\u001b[1;33m)\u001b[0m\u001b[1;33m:\u001b[0m\u001b[1;33m\u001b[0m\u001b[1;33m\u001b[0m\u001b[0m\n\u001b[1;32m---> 11\u001b[1;33m             \u001b[0mnext\u001b[0m\u001b[1;33m(\u001b[0m\u001b[0mself\u001b[0m\u001b[1;33m.\u001b[0m\u001b[0mgen\u001b[0m\u001b[1;33m)\u001b[0m\u001b[1;33m\u001b[0m\u001b[1;33m\u001b[0m\u001b[0m\n\u001b[0m\u001b[0;32m     12\u001b[0m \u001b[1;33m\u001b[0m\u001b[0m\n\u001b[0;32m     13\u001b[0m         \u001b[1;32mdef\u001b[0m \u001b[0m__exit__\u001b[0m\u001b[1;33m(\u001b[0m\u001b[0mself\u001b[0m\u001b[1;33m,\u001b[0m \u001b[1;33m*\u001b[0m\u001b[0margs\u001b[0m\u001b[1;33m)\u001b[0m\u001b[1;33m:\u001b[0m\u001b[1;33m\u001b[0m\u001b[1;33m\u001b[0m\u001b[0m\n",
      "\u001b[1;31mStopIteration\u001b[0m: "
     ]
    }
   ],
   "source": [
    "def contextmanager(gen):\n",
    "    \n",
    "    # Inside the decorator, create a context manager class\n",
    "    # and store the new instance of our generator\n",
    "    class ctxmanager:\n",
    "        \n",
    "        def __init__(self):\n",
    "            self.gen = gen()\n",
    "            \n",
    "        def __enter__(self):\n",
    "            next(self.gen)\n",
    "            \n",
    "        def __exit__(self, *args):\n",
    "            try:\n",
    "                next(self.gen)\n",
    "            except StopIteration:\n",
    "                pass\n",
    "            \n",
    "    return ctxmanager\n",
    "\n",
    "@contextmanager\n",
    "def simple_generator():\n",
    "    print('Enter Context')\n",
    "    yield\n",
    "    print('Exit context')\n",
    "\n",
    "cm = simple_generator()\n",
    "\n",
    "with cm:\n",
    "    print('Do something')\n",
    "with cm:\n",
    "    print('Do something')"
   ]
  },
  {
   "cell_type": "markdown",
   "metadata": {},
   "source": [
    "# TODO\n",
    "1. `singleuse`, `reusable`, `reentrant` context manager\n",
    "2. Supporting a variable number of context manager\n",
    "3. Handling exception from and inside `__enter__()` method\n",
    "4. class `contextlib.ExitStack` usage\n",
    "5. Real world use cases"
   ]
  },
  {
   "cell_type": "markdown",
   "metadata": {},
   "source": [
    "## singleuse context manager\n",
    "Refer to those context manager that can use only 1 time. This usually a generator-based. Since a generator will be exhausted (hitting StopIteration) after first use, every time you tried to get into the context which, in turn, invokes `next(generator)` it will raise `StopIteration` again.\n",
    "\n",
    "## reentrant context manager\n",
    "Is type of context manager that could be used more than one time and used within a nested `with` block of its self."
   ]
  },
  {
   "cell_type": "code",
   "execution_count": 18,
   "metadata": {},
   "outputs": [
    {
     "name": "stdout",
     "output_type": "stream",
     "text": [
      "Enter context 1\n",
      "Inside first context\n",
      "Enter context 2\n",
      "Inside second context\n",
      "Exit context 2\n",
      "Outside of sendcond context, inside first context\n",
      "Exit context 1\n",
      "Outside of first context\n"
     ]
    }
   ],
   "source": [
    "class my_context:\n",
    "    \n",
    "    number = 1\n",
    "    \n",
    "    def __init__(self):\n",
    "        self.no = my_context.number\n",
    "        my_context.number += 1\n",
    "    \n",
    "    def __enter__(self):\n",
    "        print('Enter context', self.no)\n",
    "        \n",
    "    def __exit__(self, *args):\n",
    "        print('Exit context', self.no)\n",
    "\n",
    "with my_context() as ctx:\n",
    "    print('Inside first context')\n",
    "    with my_context() as ctx:\n",
    "        print('Inside second context')\n",
    "        \n",
    "    print('Outside of sendcond context, inside first context')\n",
    "\n",
    "print('Outside of first context')"
   ]
  },
  {
   "cell_type": "markdown",
   "metadata": {},
   "source": [
    "## reusable context manager\n",
    "Most of context managers are reusable, but by saying reusable here, it strickly mean that the context manager is **not reentrant**"
   ]
  },
  {
   "cell_type": "code",
   "execution_count": null,
   "metadata": {},
   "outputs": [],
   "source": []
  }
 ],
 "metadata": {
  "kernelspec": {
   "display_name": "Python 3",
   "language": "python",
   "name": "python3"
  },
  "language_info": {
   "codemirror_mode": {
    "name": "ipython",
    "version": 3
   },
   "file_extension": ".py",
   "mimetype": "text/x-python",
   "name": "python",
   "nbconvert_exporter": "python",
   "pygments_lexer": "ipython3",
   "version": "3.8.2"
  }
 },
 "nbformat": 4,
 "nbformat_minor": 4
}
