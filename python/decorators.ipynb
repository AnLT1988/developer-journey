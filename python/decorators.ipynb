{
 "cells": [
  {
   "cell_type": "markdown",
   "metadata": {},
   "source": [
    "Let's warm up with the most simplest decorator"
   ]
  },
  {
   "cell_type": "code",
   "execution_count": 6,
   "metadata": {},
   "outputs": [
    {
     "name": "stdout",
     "output_type": "stream",
     "text": [
      "Decorator in action, decorating <function my_func at 0x00000204940D9F70>\n",
      "Decorator in action, decorating <function my_second_func at 0x0000020494D6CC10>\n"
     ]
    }
   ],
   "source": [
    "def decorator(func):\n",
    "    print('Decorator in action, decorating %s'%(func))\n",
    "    return func\n",
    "\n",
    "@decorator\n",
    "def my_func():\n",
    "    pass\n",
    "\n",
    "\n",
    "def my_second_func():\n",
    "    pass\n",
    "\n",
    "my_second_func = decorator(my_second_func)"
   ]
  },
  {
   "cell_type": "code",
   "execution_count": 16,
   "metadata": {},
   "outputs": [
    {
     "name": "stdout",
     "output_type": "stream",
     "text": [
      "<function random_fn at 0x0000020494E458B0>\n",
      "<__main__.Klass object at 0x0000020494E4D2E0>\n",
      "<bound method random_fn of <__main__.Klass object at 0x0000020494E4D2E0>>\n",
      "<__main__.Klass object at 0x0000020494E4D2E0>\n"
     ]
    }
   ],
   "source": [
    "def random_fn(obj):\n",
    "    print(obj)\n",
    "\n",
    "print(random_fn)\n",
    "\n",
    "class Klass:\n",
    "    pass\n",
    "\n",
    "obj = Klass()\n",
    "print(obj)\n",
    "\n",
    "print(random_fn.__get__(obj, type(obj)))\n",
    "random_fn.__get__(obj, type(obj))()"
   ]
  },
  {
   "cell_type": "markdown",
   "metadata": {},
   "source": [
    "What do we have here? Black magic?\n",
    "\n",
    "No, it's just Python is doing its things, invoking function.\n",
    "\n",
    "We have been taught that `method` (or `bound method`) is a function defined inside a class body and invoked through an instance of that class. What we see here, however, is totally different. `random_fn` is, well, a random function defined outside of class `Klass`. Then with `obj` is an instance of `Klass`, we have:\n",
    "```\n",
    ">>> def random_fn(obj):\n",
    "...     print(obj)\n",
    ">>> print(random_fn.__get__(obj, type(obj)))\n",
    ">>> class Klass:\n",
    "...     pass\n",
    ">>> obj = Klass()\n",
    ">>> print(obj)\n",
    "<__main__.Klass object at 0x00000131FD137550>\n",
    ">>> print(random_fn.__get__(obj, type(obj)))\n",
    "<bound method random_fn of <__main__.Klass object at 0x00000131FD137550>>\n",
    "```\n",
    "An arbitrarily defined function just became a method of an instance of our `Klass` and we can even execute it\n",
    "```\n",
    ">>> random_fn.__get__(obj, type(obj))()\n",
    "<__main__.Klass object at 0x00000131FD137550>\n",
    "```\n",
    "Now, let's see what a real method will behave:\n",
    "```\n",
    ">>> class Klass:\n",
    "...     def real_method(self):\n",
    "...             print(self)\n",
    "...\n",
    ">>> obj = Klass()\n",
    ">>> obj.real_method\n",
    "<bound method Klass.real_method of <__main__.Klass object at 0x00000131FD137520>>\n",
    ">>> Klass.real_method.__get__(obj, type(obj))\n",
    "<bound method Klass.real_method of <__main__.Klass object at 0x00000131FD137520>>\n",
    ">>> Klass.real_method.__get__(obj, type(obj))()\n",
    "<__main__.Klass object at 0x00000131FD137520>\n",
    "```\n",
    "Pretty much the same, the only difference is that we need to access `real_method` via `Klass namespace`, since the method is defined inside `Klass`, not the module. It doesn't change the behavior though."
   ]
  },
  {
   "cell_type": "code",
   "execution_count": null,
   "metadata": {},
   "outputs": [],
   "source": []
  }
 ],
 "metadata": {
  "kernelspec": {
   "display_name": "Python 3",
   "language": "python",
   "name": "python3"
  },
  "language_info": {
   "codemirror_mode": {
    "name": "ipython",
    "version": 3
   },
   "file_extension": ".py",
   "mimetype": "text/x-python",
   "name": "python",
   "nbconvert_exporter": "python",
   "pygments_lexer": "ipython3",
   "version": "3.9.1"
  }
 },
 "nbformat": 4,
 "nbformat_minor": 4
}
