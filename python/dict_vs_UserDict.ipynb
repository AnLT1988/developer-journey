{
 "cells": [
  {
   "cell_type": "code",
   "execution_count": 3,
   "metadata": {},
   "outputs": [],
   "source": [
    "\n",
    "\n",
    "class my_dict(dict):\n",
    "    \n",
    "    def __missing__(self, key):\n",
    "        print(f'__missing__({key!r})')\n",
    "        raise KeyError"
   ]
  },
  {
   "cell_type": "code",
   "execution_count": 7,
   "metadata": {},
   "outputs": [
    {
     "name": "stdout",
     "output_type": "stream",
     "text": [
      "__missing__('a')\n",
      "\n",
      "a is missing\n"
     ]
    }
   ],
   "source": [
    "a = my_dict()\n",
    "try:\n",
    "    print(a['a'])\n",
    "except KeyError as e:\n",
    "    print(e)\n",
    "    \n",
    "print(a.get('a', 'a is missing'))"
   ]
  },
  {
   "cell_type": "code",
   "execution_count": 26,
   "metadata": {},
   "outputs": [
    {
     "name": "stdout",
     "output_type": "stream",
     "text": [
      "setdefault\n",
      "__missing__('a')\n",
      "This is the default from this is default\n",
      "{'b': 'b', 'a': 'this is default'}\n"
     ]
    }
   ],
   "source": [
    "from collections import UserDict\n",
    "\n",
    "\n",
    "class my_dictv2(UserDict):\n",
    "    \n",
    "    def __missing__(self, key):\n",
    "        print(f'__missing__({key!r})')\n",
    "        raise KeyError\n",
    "        \n",
    "    def setdefault(self, key, default):\n",
    "        print('setdefault')\n",
    "        return super().setdefault(key, default)\n",
    "    \n",
    "    def __delitem__(self, key):\n",
    "        print('__delitem__')\n",
    "        return super().__delitem__(key)\n",
    "        \n",
    "        \n",
    "a = my_dictv2()\n",
    "a['b'] = 'b'\n",
    "\n",
    "print('This is the default from', a.setdefault('a', 'this is default'))\n",
    "print(a.data)"
   ]
  },
  {
   "cell_type": "code",
   "execution_count": 15,
   "metadata": {},
   "outputs": [],
   "source": [
    "dt = {}\n",
    "dt.setdefault?"
   ]
  }
 ],
 "metadata": {
  "kernelspec": {
   "display_name": "Python 3",
   "language": "python",
   "name": "python3"
  },
  "language_info": {
   "codemirror_mode": {
    "name": "ipython",
    "version": 3
   },
   "file_extension": ".py",
   "mimetype": "text/x-python",
   "name": "python",
   "nbconvert_exporter": "python",
   "pygments_lexer": "ipython3",
   "version": "3.8.2"
  }
 },
 "nbformat": 4,
 "nbformat_minor": 4
}
