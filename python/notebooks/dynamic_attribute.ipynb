{
 "cells": [
  {
   "cell_type": "markdown",
   "metadata": {},
   "source": [
    "In Python, we know that attribute refers to data attribute and methods.\n",
    "\n",
    "We could have two types of attribute:\n",
    "1. class attribute<br>\n",
    "   Any attribute that is defined inside the class body and **not** inside the body of `__init__` method\n",
    "2. instance attribute<br>\n",
    "   Attributes that are defined inside the body of `__init__` method\n",
    "   \n",
    "```python\n",
    "class MyClass:\n",
    "    class_attribute = None\n",
    "    \n",
    "    def __init__(self):\n",
    "        instance_attribute = None\n",
    "```\n",
    "\n",
    "This means even before we instantiate a class, we need to define its class's attributes and instance's attribute. What if you don't know about that in advance? This is where we need `dynamic attribute`. A typical use case for `dynamic attribute` is to provide a convenient way to access data of a dictionary via normal attribute access.\n",
    "\n",
    "Let's say that you have a `dict` like below:\n",
    "\n",
    "```python\n",
    "    my_class = {\n",
    "        'primary_teacher': \"Professor Tom\",\n",
    "        'number_of_student': 40,\n",
    "        'class_name': 'Python 101'\n",
    "    }\n",
    "    \n",
    "    print(my_class['primary_teacher'])\n",
    "    print(my_class['class_name']\n",
    "```\n",
    "\n",
    "It will be more convenient to access the element like this:\n",
    "```python\n",
    "    print(my_class.primary_teacher)\n",
    "    print(my_class.class_name)\n",
    "```\n",
    "It feels more object oriented this way, right?\n",
    "\n",
    "You could always create a class with these attributes. However, if you're only trying to explore the data, or you have to deal with arbitrarily data on a regular basis, create a class for each data structure will be boresome and tedious.\n",
    "\n",
    "Below is a class that could help you create such obj"
   ]
  },
  {
   "cell_type": "code",
   "execution_count": 6,
   "metadata": {},
   "outputs": [
    {
     "name": "stdout",
     "output_type": "stream",
     "text": [
      "Professor Tom\n"
     ]
    },
    {
     "ename": "AttributeError",
     "evalue": "Cannot find attr with name unknown_attribute",
     "output_type": "error",
     "traceback": [
      "\u001b[1;31m---------------------------------------------------------------------------\u001b[0m",
      "\u001b[1;31mKeyError\u001b[0m                                  Traceback (most recent call last)",
      "\u001b[1;32m<ipython-input-6-463fb4c3fbca>\u001b[0m in \u001b[0;36m__getattr__\u001b[1;34m(self, name)\u001b[0m\n\u001b[0;32m     10\u001b[0m             \u001b[1;32mtry\u001b[0m\u001b[1;33m:\u001b[0m\u001b[1;33m\u001b[0m\u001b[1;33m\u001b[0m\u001b[0m\n\u001b[1;32m---> 11\u001b[1;33m                 \u001b[1;32mreturn\u001b[0m \u001b[0mself\u001b[0m\u001b[1;33m.\u001b[0m\u001b[0m__data\u001b[0m\u001b[1;33m[\u001b[0m\u001b[0mname\u001b[0m\u001b[1;33m]\u001b[0m\u001b[1;33m\u001b[0m\u001b[1;33m\u001b[0m\u001b[0m\n\u001b[0m\u001b[0;32m     12\u001b[0m             \u001b[1;32mexcept\u001b[0m \u001b[0mKeyError\u001b[0m\u001b[1;33m:\u001b[0m\u001b[1;33m\u001b[0m\u001b[1;33m\u001b[0m\u001b[0m\n",
      "\u001b[1;31mKeyError\u001b[0m: 'unknown_attribute'",
      "\nDuring handling of the above exception, another exception occurred:\n",
      "\u001b[1;31mAttributeError\u001b[0m                            Traceback (most recent call last)",
      "\u001b[1;32m<ipython-input-6-463fb4c3fbca>\u001b[0m in \u001b[0;36m<module>\u001b[1;34m\u001b[0m\n\u001b[0;32m     23\u001b[0m \u001b[0mprint\u001b[0m\u001b[1;33m(\u001b[0m\u001b[0mmy_data\u001b[0m\u001b[1;33m.\u001b[0m\u001b[0mprimary_teacher\u001b[0m\u001b[1;33m)\u001b[0m\u001b[1;33m\u001b[0m\u001b[1;33m\u001b[0m\u001b[0m\n\u001b[0;32m     24\u001b[0m \u001b[1;33m\u001b[0m\u001b[0m\n\u001b[1;32m---> 25\u001b[1;33m \u001b[0mprint\u001b[0m\u001b[1;33m(\u001b[0m\u001b[0mmy_data\u001b[0m\u001b[1;33m.\u001b[0m\u001b[0munknown_attribute\u001b[0m\u001b[1;33m)\u001b[0m\u001b[1;33m\u001b[0m\u001b[1;33m\u001b[0m\u001b[0m\n\u001b[0m",
      "\u001b[1;32m<ipython-input-6-463fb4c3fbca>\u001b[0m in \u001b[0;36m__getattr__\u001b[1;34m(self, name)\u001b[0m\n\u001b[0;32m     12\u001b[0m             \u001b[1;32mexcept\u001b[0m \u001b[0mKeyError\u001b[0m\u001b[1;33m:\u001b[0m\u001b[1;33m\u001b[0m\u001b[1;33m\u001b[0m\u001b[0m\n\u001b[0;32m     13\u001b[0m                 \u001b[0mmsg\u001b[0m \u001b[1;33m=\u001b[0m \u001b[1;34m\"Cannot find attr with name {}\"\u001b[0m\u001b[1;33m\u001b[0m\u001b[1;33m\u001b[0m\u001b[0m\n\u001b[1;32m---> 14\u001b[1;33m                 \u001b[1;32mraise\u001b[0m \u001b[0mAttributeError\u001b[0m\u001b[1;33m(\u001b[0m\u001b[0mmsg\u001b[0m\u001b[1;33m.\u001b[0m\u001b[0mformat\u001b[0m\u001b[1;33m(\u001b[0m\u001b[0mname\u001b[0m\u001b[1;33m)\u001b[0m\u001b[1;33m)\u001b[0m\u001b[1;33m\u001b[0m\u001b[1;33m\u001b[0m\u001b[0m\n\u001b[0m\u001b[0;32m     15\u001b[0m \u001b[1;33m\u001b[0m\u001b[0m\n\u001b[0;32m     16\u001b[0m my_class = {\n",
      "\u001b[1;31mAttributeError\u001b[0m: Cannot find attr with name unknown_attribute"
     ]
    }
   ],
   "source": [
    "class DataReader:\n",
    "    \n",
    "    def __init__(self, mapping):\n",
    "        self.__data = mapping\n",
    "        \n",
    "    def __getattr__(self, name):\n",
    "        if hasattr(self.__data, name):\n",
    "            return self.__data.name\n",
    "        else:\n",
    "            try:\n",
    "                return self.__data[name]\n",
    "            except KeyError:\n",
    "                msg = \"Cannot find attr with name {}\"\n",
    "                raise AttributeError(msg.format(name))\n",
    "                \n",
    "my_class = {\n",
    "        'primary_teacher': \"Professor Tom\",\n",
    "        'number_of_student': 40,\n",
    "        'class_name': 'Python 101'\n",
    "    }\n",
    "\n",
    "my_data = DataReader(my_class)\n",
    "print(my_data.primary_teacher)\n",
    "\n",
    "print(my_data.unknown_attribute)"
   ]
  },
  {
   "cell_type": "markdown",
   "metadata": {},
   "source": [
    "The simple class above works by leveraging the method `__getattr__` which will always be called if AttributeError was raised during the attempt to access an attribute.\n",
    "\n",
    "Obviously, the instance `my_data` of `DataReader` doesn't have any methods or attributes whatsoever. So when we're try to access an attribute, without `__getattr__`, the exception AttributeError will be raised."
   ]
  },
  {
   "cell_type": "code",
   "execution_count": 8,
   "metadata": {},
   "outputs": [
    {
     "ename": "AttributeError",
     "evalue": "'DataReader' object has no attribute 'primary_teacher'",
     "output_type": "error",
     "traceback": [
      "\u001b[1;31m---------------------------------------------------------------------------\u001b[0m",
      "\u001b[1;31mAttributeError\u001b[0m                            Traceback (most recent call last)",
      "\u001b[1;32m<ipython-input-8-2d6f9931dda8>\u001b[0m in \u001b[0;36m<module>\u001b[1;34m\u001b[0m\n\u001b[0;32m     10\u001b[0m }\n\u001b[0;32m     11\u001b[0m \u001b[0mmy_data\u001b[0m \u001b[1;33m=\u001b[0m \u001b[0mDataReader\u001b[0m\u001b[1;33m(\u001b[0m\u001b[0mmy_class\u001b[0m\u001b[1;33m)\u001b[0m\u001b[1;33m\u001b[0m\u001b[1;33m\u001b[0m\u001b[0m\n\u001b[1;32m---> 12\u001b[1;33m \u001b[0mprint\u001b[0m\u001b[1;33m(\u001b[0m\u001b[0mmy_data\u001b[0m\u001b[1;33m.\u001b[0m\u001b[0mprimary_teacher\u001b[0m\u001b[1;33m)\u001b[0m\u001b[1;33m\u001b[0m\u001b[1;33m\u001b[0m\u001b[0m\n\u001b[0m",
      "\u001b[1;31mAttributeError\u001b[0m: 'DataReader' object has no attribute 'primary_teacher'"
     ]
    }
   ],
   "source": [
    "class DataReader:\n",
    "    \n",
    "    def __init__(self, mapping):\n",
    "        self.__data = mapping\n",
    "\n",
    "my_class = {\n",
    "    'primary_teacher': \"Professor Tom\",\n",
    "    'number_of_student': 40,\n",
    "    'class_name': 'Python 101'\n",
    "}\n",
    "my_data = DataReader(my_class)\n",
    "print(my_data.primary_teacher)"
   ]
  },
  {
   "cell_type": "markdown",
   "metadata": {},
   "source": [
    "But we do have `__getattr__` implemented, don't we? When AttributeError is raised, `__getattr__` is called and eventually look for the unknown attribute in our only attribute `__data` which is holding a mapping. By the end, if the attribute is indeed a key in that mapping, we successfully retrieve a value. So we could basically create an `DataReader` instance from any mapping and support data access via dot notation.<br>\n",
    "Next, we will enhance our DataReader to deal with nested dictionary"
   ]
  },
  {
   "cell_type": "code",
   "execution_count": 14,
   "metadata": {},
   "outputs": [
    {
     "name": "stdout",
     "output_type": "stream",
     "text": [
      "Professor Tom\n",
      "18\n",
      "['_DataReaderV2__data', '__class__', '__delattr__', '__dict__', '__dir__', '__doc__', '__eq__', '__format__', '__ge__', '__getattr__', '__getattribute__', '__gt__', '__hash__', '__init__', '__init_subclass__', '__le__', '__lt__', '__module__', '__ne__', '__new__', '__reduce__', '__reduce_ex__', '__repr__', '__setattr__', '__sizeof__', '__str__', '__subclasshook__', '__weakref__']\n"
     ]
    }
   ],
   "source": [
    "from collections import MutableMapping\n",
    "\n",
    "class DataReaderV2:\n",
    "    \n",
    "    def __init__(self, mapping):\n",
    "        self.__data = mapping\n",
    "        \n",
    "    def __getattr__(self, name):\n",
    "        if hasattr(self.__data, name):\n",
    "            return self.__data.name\n",
    "        else:\n",
    "            try:\n",
    "                if isinstance(self.__data[name], MutableMapping):\n",
    "                    return DataReaderV2(self.__data[name])\n",
    "                elif isinstance(self.__data[name], list):\n",
    "                    return [DataReaderV2(data) for data in self.__data[name]]\n",
    "                else:\n",
    "                    return self.__data[name]\n",
    "            except KeyError:\n",
    "                msg = \"Cannot find attr with name {}\"\n",
    "                raise AttributeError(msg.format(name))\n",
    "                \n",
    "my_class = {\n",
    "    'primary_teacher': {\n",
    "        'name': \"Professor Tom\",\n",
    "        'age': 35,\n",
    "    },\n",
    "    'number_of_student': 40,\n",
    "    'class_name': 'Python 101',\n",
    "    'students': [\n",
    "        {\n",
    "            'name': 'An',\n",
    "            'age': 18,\n",
    "        },\n",
    "        {\n",
    "            'name': 'Vien',\n",
    "            'age': 18,\n",
    "        },\n",
    "    ]\n",
    "}\n",
    "\n",
    "my_data = DataReaderV2(my_class)\n",
    "print(my_data.primary_teacher.name)\n",
    "print(my_data.students[0].age)\n",
    "print(dir(my_data))"
   ]
  },
  {
   "cell_type": "code",
   "execution_count": 13,
   "metadata": {},
   "outputs": [
    {
     "name": "stdout",
     "output_type": "stream",
     "text": [
      "Professor Tom\n",
      "['__class__', '__delattr__', '__dict__', '__dir__', '__doc__', '__eq__', '__format__', '__ge__', '__getattribute__', '__gt__', '__hash__', '__init__', '__init_subclass__', '__le__', '__lt__', '__module__', '__ne__', '__new__', '__reduce__', '__reduce_ex__', '__repr__', '__setattr__', '__sizeof__', '__str__', '__subclasshook__', '__weakref__', 'class_name', 'number_of_student', 'primary_teacher']\n"
     ]
    }
   ],
   "source": [
    "class DataReaderV3:\n",
    "    \n",
    "    def __init__(self, mapping):\n",
    "        self.__dict__.update(mapping)\n",
    "        \n",
    "my_class = {\n",
    "    'primary_teacher': \"Professor Tom\",\n",
    "    'number_of_student': 40,\n",
    "    'class_name': 'Python 101'\n",
    "}\n",
    "\n",
    "my_data = DataReaderV3(my_class)\n",
    "print(my_data.primary_teacher)\n",
    "print(dir(my_data))"
   ]
  },
  {
   "cell_type": "markdown",
   "metadata": {},
   "source": [
    "This version is much shorter but won't support nested.\n",
    "\n",
    "The line\n",
    "```python\n",
    "self.__dict__.update(mapping)\n",
    "```\n",
    "\n",
    "is actually a Python idiom, used to quickly create many `dynamic attribute` at once.<br>\n",
    "Because all instance attribute are stored in `__dict__`, so updating `__dict__` is equivalent to adding attribute to the objects."
   ]
  },
  {
   "cell_type": "markdown",
   "metadata": {},
   "source": [
    "Next concept is property and property factory\n",
    "\n",
    "`property` is an implementation of Data Discriptor protocol"
   ]
  },
  {
   "cell_type": "code",
   "execution_count": 4,
   "metadata": {},
   "outputs": [
    {
     "name": "stdout",
     "output_type": "stream",
     "text": [
      "Hello An\n"
     ]
    },
    {
     "ename": "AttributeError",
     "evalue": "can't set attribute",
     "output_type": "error",
     "traceback": [
      "\u001b[1;31m---------------------------------------------------------------------------\u001b[0m",
      "\u001b[1;31mAttributeError\u001b[0m                            Traceback (most recent call last)",
      "\u001b[1;32m<ipython-input-4-bfc9fea6ca76>\u001b[0m in \u001b[0;36m<module>\u001b[1;34m\u001b[0m\n\u001b[0;32m     10\u001b[0m \u001b[0mprint\u001b[0m\u001b[1;33m(\u001b[0m\u001b[0mmy_object\u001b[0m\u001b[1;33m.\u001b[0m\u001b[0mgreeting\u001b[0m\u001b[1;33m)\u001b[0m\u001b[1;33m\u001b[0m\u001b[1;33m\u001b[0m\u001b[0m\n\u001b[0;32m     11\u001b[0m \u001b[1;33m\u001b[0m\u001b[0m\n\u001b[1;32m---> 12\u001b[1;33m \u001b[0mmy_object\u001b[0m\u001b[1;33m.\u001b[0m\u001b[0mgreeting\u001b[0m \u001b[1;33m=\u001b[0m \u001b[1;34m\"Hello Vien\"\u001b[0m\u001b[1;33m\u001b[0m\u001b[1;33m\u001b[0m\u001b[0m\n\u001b[0m",
      "\u001b[1;31mAttributeError\u001b[0m: can't set attribute"
     ]
    }
   ],
   "source": [
    "class MyClass:\n",
    "    \n",
    "    def __init__(self, initial_value):\n",
    "        self.__msg = \"Hello \" + str(initial_value)\n",
    "    @property\n",
    "    def greeting(self):\n",
    "        return self.__msg\n",
    "    \n",
    "my_object = MyClass(\"An\")\n",
    "print(my_object.greeting)\n",
    "\n",
    "my_object.greeting = \"Hello Vien\""
   ]
  },
  {
   "cell_type": "code",
   "execution_count": 3,
   "metadata": {},
   "outputs": [
    {
     "name": "stdout",
     "output_type": "stream",
     "text": [
      "<class 'str'>\n",
      "Hello An\n",
      "Hello Vien\n"
     ]
    }
   ],
   "source": [
    "class MyClassV2:\n",
    "    \n",
    "    def __init__(self, initial_value):\n",
    "        self.__msg = \"Hello \" + str(initial_value)\n",
    "        \n",
    "    @property\n",
    "    def greeting(self):\n",
    "        return self.__msg\n",
    "    \n",
    "    @greeting.setter\n",
    "    def greeting(self, new_value):\n",
    "        self.__msg = \"Hello \" + str(new_value)\n",
    "    \n",
    "my_object = MyClassV2(\"An\")\n",
    "print(type(my_object.greeting))\n",
    "print(my_object.greeting)\n",
    "\n",
    "my_object.greeting = \"Vien\"\n",
    "print(my_object.greeting)"
   ]
  },
  {
   "cell_type": "code",
   "execution_count": 22,
   "metadata": {},
   "outputs": [
    {
     "name": "stdout",
     "output_type": "stream",
     "text": [
      "<class '__main__.MyProperty'>\n",
      "<__main__.MyProperty object at 0x0000026ED2093370>\n",
      "__get__ being called\n",
      "<class 'str'>\n",
      "__get__ being called\n",
      "Hello An\n",
      "__get__ being called\n",
      "Hello Vien\n"
     ]
    }
   ],
   "source": [
    "class MyProperty:\n",
    "    \n",
    "    def __init__(self, getter=None, setter=None, deleter=None, description=None):\n",
    "        self._getter = getter\n",
    "        self._setter = setter\n",
    "        self._deleter = deleter\n",
    "        self._description = description\n",
    "    \n",
    "    def __get__(self, obj, objtype=None):\n",
    "        print('__get__ being called')\n",
    "        return self._getter(obj)\n",
    "    \n",
    "    def __set__(self, obj, value):\n",
    "        self._setter(obj, value)\n",
    "    \n",
    "    def setter(self, setter):\n",
    "        return type(self)(getter=self._getter, setter=setter, deleter=self._deleter, description=self._description)\n",
    "\n",
    "def my_property(func):\n",
    "    obj = MyProperty(getter=func)\n",
    "    print(type(obj))\n",
    "    \n",
    "    return obj\n",
    "\n",
    "\n",
    "class MyClassV3:\n",
    "    \n",
    "    normal_property = MyProperty()\n",
    "    \n",
    "    def __init__(self, initial_value):\n",
    "        self.__msg = \"Hello \" + str(initial_value)\n",
    "        \n",
    "    @my_property\n",
    "    def greeting(self):\n",
    "        return self.__msg\n",
    "    \n",
    "    @greeting.setter\n",
    "    def greeting(self, new_value):\n",
    "        self.__msg = \"Hello \" + str(new_value)\n",
    "        \n",
    "    print(greeting)\n",
    "        \n",
    "my_object = MyClassV3(\"An\")\n",
    "print(type(my_object.greeting))\n",
    "print(my_object.greeting)\n",
    "\n",
    "my_object.greeting = \"Vien\"\n",
    "print(my_object.greeting)"
   ]
  },
  {
   "cell_type": "markdown",
   "metadata": {},
   "source": [
    "# property factory\n",
    "\n",
    "It's a factory that create property obj. Just that simple"
   ]
  },
  {
   "cell_type": "code",
   "execution_count": 26,
   "metadata": {},
   "outputs": [
    {
     "name": "stdout",
     "output_type": "stream",
     "text": [
      "1000\n",
      "-100\n"
     ]
    }
   ],
   "source": [
    "class People():\n",
    "    \n",
    "    def __init__(self, salary=1000):\n",
    "        self._salary = salary\n",
    "    \n",
    "    @property\n",
    "    def salary(self):\n",
    "        return self._salary\n",
    "    \n",
    "    @salary.setter\n",
    "    def salary(self, value):\n",
    "        self._salary = value\n",
    "        \n",
    "people = People()\n",
    "\n",
    "print(people.salary)\n",
    "people.salary = -100\n",
    "print(people.salary)"
   ]
  },
  {
   "cell_type": "markdown",
   "metadata": {},
   "source": [
    "It wouldn't very sensible if someone has negative salary. We'd like to have some validation here."
   ]
  },
  {
   "cell_type": "code",
   "execution_count": null,
   "metadata": {},
   "outputs": [],
   "source": [
    "class PeopleV2():\n",
    "    \n",
    "    def __init__(self, salary=1000):\n",
    "        self._salary = salary\n",
    "    \n",
    "    @property\n",
    "    def salary(self):\n",
    "        return self._salary\n",
    "    \n",
    "    @salary.setter\n",
    "    def salary(self, value):\n",
    "        if value > 0:\n",
    "            self._salary = value\n",
    "        else:\n",
    "            raise ValueError(\"Salary must greater than 0\")\n",
    "        \n",
    "people = PeopleV2()\n",
    "\n",
    "print(people.salary)\n",
    "people.salary = -100\n",
    "print(people.salary)"
   ]
  },
  {
   "cell_type": "markdown",
   "metadata": {},
   "source": [
    "Good, but apart from salary, there must be other attributes that don't accept negative value, such as age, height, etc.. So we just need to go ahead and do the same validation in `property.setter`, easy enough right?<br>\n",
    "Yes and No, repeating your self doesn't only make your code long, but also reduce reusability of your code. Everytime you need to reuse this validation logic, you need to copy it over. In case your logic change, just think of how many place you need to update the logic.\n",
    "\n",
    "So, we need to think about away to reuse our logic. Since we're creating property() obj, it's natural to think of some sort of factory that mass produce these obj for us."
   ]
  },
  {
   "cell_type": "code",
   "execution_count": 12,
   "metadata": {},
   "outputs": [
    {
     "name": "stdout",
     "output_type": "stream",
     "text": [
      "100\n"
     ]
    },
    {
     "ename": "ValueError",
     "evalue": "salary must greater than 0",
     "output_type": "error",
     "traceback": [
      "\u001b[1;31m---------------------------------------------------------------------------\u001b[0m",
      "\u001b[1;31mValueError\u001b[0m                                Traceback (most recent call last)",
      "\u001b[1;32m<ipython-input-12-a6add86b96c3>\u001b[0m in \u001b[0;36m<module>\u001b[1;34m\u001b[0m\n\u001b[0;32m     23\u001b[0m \u001b[0mpeople\u001b[0m \u001b[1;33m=\u001b[0m \u001b[0mPeopleV3\u001b[0m\u001b[1;33m(\u001b[0m\u001b[1;33m)\u001b[0m\u001b[1;33m\u001b[0m\u001b[1;33m\u001b[0m\u001b[0m\n\u001b[0;32m     24\u001b[0m \u001b[0mprint\u001b[0m\u001b[1;33m(\u001b[0m\u001b[0mpeople\u001b[0m\u001b[1;33m.\u001b[0m\u001b[0msalary\u001b[0m\u001b[1;33m)\u001b[0m\u001b[1;33m\u001b[0m\u001b[1;33m\u001b[0m\u001b[0m\n\u001b[1;32m---> 25\u001b[1;33m \u001b[0mpeople\u001b[0m\u001b[1;33m.\u001b[0m\u001b[0msalary\u001b[0m \u001b[1;33m=\u001b[0m \u001b[1;33m-\u001b[0m\u001b[1;36m1\u001b[0m\u001b[1;33m\u001b[0m\u001b[1;33m\u001b[0m\u001b[0m\n\u001b[0m",
      "\u001b[1;32m<ipython-input-12-a6add86b96c3>\u001b[0m in \u001b[0;36msetter\u001b[1;34m(obj, value)\u001b[0m\n\u001b[0;32m      4\u001b[0m             \u001b[0mobj\u001b[0m\u001b[1;33m.\u001b[0m\u001b[0m__dict__\u001b[0m\u001b[1;33m[\u001b[0m\u001b[0mname\u001b[0m\u001b[1;33m]\u001b[0m \u001b[1;33m=\u001b[0m \u001b[0mvalue\u001b[0m\u001b[1;33m\u001b[0m\u001b[1;33m\u001b[0m\u001b[0m\n\u001b[0;32m      5\u001b[0m         \u001b[1;32melse\u001b[0m\u001b[1;33m:\u001b[0m\u001b[1;33m\u001b[0m\u001b[1;33m\u001b[0m\u001b[0m\n\u001b[1;32m----> 6\u001b[1;33m             \u001b[1;32mraise\u001b[0m \u001b[0mValueError\u001b[0m\u001b[1;33m(\u001b[0m\u001b[1;34mf\"{name} must greater than 0\"\u001b[0m\u001b[1;33m)\u001b[0m\u001b[1;33m\u001b[0m\u001b[1;33m\u001b[0m\u001b[0m\n\u001b[0m\u001b[0;32m      7\u001b[0m \u001b[1;33m\u001b[0m\u001b[0m\n\u001b[0;32m      8\u001b[0m     \u001b[1;32mdef\u001b[0m \u001b[0mgetter\u001b[0m\u001b[1;33m(\u001b[0m\u001b[0mobj\u001b[0m\u001b[1;33m,\u001b[0m \u001b[0mobjtype\u001b[0m\u001b[1;33m=\u001b[0m\u001b[1;32mNone\u001b[0m\u001b[1;33m)\u001b[0m\u001b[1;33m:\u001b[0m\u001b[1;33m\u001b[0m\u001b[1;33m\u001b[0m\u001b[0m\n",
      "\u001b[1;31mValueError\u001b[0m: salary must greater than 0"
     ]
    }
   ],
   "source": [
    "def my_factory(name):\n",
    "    def setter(obj, value):\n",
    "        if value > 0:\n",
    "            obj.__dict__[name] = value\n",
    "        else:\n",
    "            raise ValueError(f\"{name} must greater than 0\")\n",
    "            \n",
    "    def getter(obj, objtype=None):\n",
    "        return obj.__dict__[name]\n",
    "    \n",
    "    return property(getter, setter)\n",
    "\n",
    "\n",
    "class PeopleV3:\n",
    "    \n",
    "    salary = my_factory('salary')\n",
    "    age = my_factory('age')\n",
    "    \n",
    "    def __init__(self, salary=100, age=1):\n",
    "        self.salary = 100\n",
    "        self.age = age\n",
    "    \n",
    "people = PeopleV3()\n",
    "print(people.salary)\n",
    "people.salary = -1"
   ]
  },
  {
   "cell_type": "code",
   "execution_count": 42,
   "metadata": {},
   "outputs": [
    {
     "name": "stdout",
     "output_type": "stream",
     "text": [
      "#1 __set__(<__main__.DataDescriptor object at 0x00000294D7D40D90>, <__main__.ManagedClass object at 0x00000294D7D40D30>, 'My name')\n",
      "#2 __get__(<__main__.DataDescriptor object at 0x00000294D7D40D90>, <__main__.ManagedClass object at 0x00000294D7D40D30>, <class '__main__.ManagedClass'>)\n",
      "My name\n",
      "#3 __set__(<__main__.DataDescriptor object at 0x00000294D7D40490>, <__main__.ManagedClass object at 0x00000294D7D40D30>, 'value for another_attribute')\n",
      "#4 __get__(<__main__.DataDescriptor object at 0x00000294D7D40490>, <__main__.ManagedClass object at 0x00000294D7D40D30>, <class '__main__.ManagedClass'>)\n",
      "value for another_attribute\n"
     ]
    }
   ],
   "source": [
    "class DataDescriptor:\n",
    "    __call_count = 0\n",
    "    def __init__(self, storage_name):\n",
    "        self.storage_name = storage_name  # the constructor accept a variable name and store it for later use\n",
    "        \n",
    "    @classmethod\n",
    "    def call_count(cls):\n",
    "        cls.__call_count += 1\n",
    "        \n",
    "        return cls.__call_count\n",
    "        \n",
    "    def __get__(self, instance, owner):\n",
    "        print(f'#{self.call_count()} __get__({self}, {instance}, {owner})')\n",
    "        # retrieve the storage name from instance __dict__\n",
    "        return instance.__dict__[self.storage_name]\n",
    "    \n",
    "    def __set__(self, instance, value):\n",
    "        print(f'#{self.call_count()} __set__({self}, {instance}, {value!r})')\n",
    "        # store the value into the instance's __dict__\n",
    "        # under the the name of the variable which is stored earlier\n",
    "        instance.__dict__[self.storage_name] = value\n",
    "        \n",
    "class ManagedClass:\n",
    "    managed_attribute = DataDescriptor('managed_attribute')  # have to pass the variable name to the constructor\n",
    "    another_attribute = DataDescriptor('another_attribute')  # have to pass the variable name to the constructor\n",
    "    \n",
    "    def __init__(self, value):\n",
    "        self.managed_attribute = value\n",
    "        \n",
    "        \n",
    "managed_instance = ManagedClass('My name') # 1\n",
    "print(managed_instance.managed_attribute) # 2\n",
    "managed_instance. another_attribute = \"value for another_attribute\" # 3\n",
    "print(managed_instance.another_attribute) # 4"
   ]
  },
  {
   "cell_type": "code",
   "execution_count": 29,
   "metadata": {},
   "outputs": [
    {
     "name": "stdout",
     "output_type": "stream",
     "text": [
      "__set__(<__main__.DataDescriptorV2 object at 0x00000294D7D5B0D0>, <__main__.ManagedClassV2 object at 0x00000294D7D5B430>, My name)\n",
      "__get__(<__main__.DataDescriptorV2 object at 0x00000294D7D5B0D0>, <__main__.ManagedClassV2 object at 0x00000294D7D5B430>, <class '__main__.ManagedClassV2'>)\n",
      "<class 'int'>\n",
      "__get__(<__main__.DataDescriptorV2 object at 0x00000294D7D5B0D0>, <__main__.ManagedClassV2 object at 0x00000294D7D5B430>, <class '__main__.ManagedClassV2'>)\n",
      "42\n",
      "__get__(<__main__.DataDescriptorV2 object at 0x00000294D7D5B0D0>, <__main__.ManagedClassV2 object at 0x00000294D7D5B430>, <class '__main__.ManagedClassV2'>)\n",
      "['__abs__', '__add__', '__and__', '__bool__', '__ceil__', '__class__', '__delattr__', '__dir__', '__divmod__', '__doc__', '__eq__', '__float__', '__floor__', '__floordiv__', '__format__', '__ge__', '__getattribute__', '__getnewargs__', '__gt__', '__hash__', '__index__', '__init__', '__init_subclass__', '__int__', '__invert__', '__le__', '__lshift__', '__lt__', '__mod__', '__mul__', '__ne__', '__neg__', '__new__', '__or__', '__pos__', '__pow__', '__radd__', '__rand__', '__rdivmod__', '__reduce__', '__reduce_ex__', '__repr__', '__rfloordiv__', '__rlshift__', '__rmod__', '__rmul__', '__ror__', '__round__', '__rpow__', '__rrshift__', '__rshift__', '__rsub__', '__rtruediv__', '__rxor__', '__setattr__', '__sizeof__', '__str__', '__sub__', '__subclasshook__', '__truediv__', '__trunc__', '__xor__', 'as_integer_ratio', 'bit_length', 'conjugate', 'denominator', 'from_bytes', 'imag', 'numerator', 'real', 'to_bytes']\n",
      "__get__(<__main__.DataDescriptorV2 object at 0x00000294D7D5B1F0>, <__main__.ManagedClassV2 object at 0x00000294D7D5B430>, <class '__main__.ManagedClassV2'>)\n",
      "42\n",
      "__get__(<__main__.DataDescriptor object at 0x00000294D7719A60>, None, <class '__main__.ManagedClass'>)\n",
      "42\n"
     ]
    }
   ],
   "source": [
    "class DataDescriptorV2:\n",
    "    \n",
    "    def __init__(self, storage_name):\n",
    "        self.storage_name = storage_name\n",
    "        \n",
    "    def __get__(self, instance, owner):\n",
    "        print(f'__get__({self}, {instance}, {owner})')\n",
    "        return 42\n",
    "    \n",
    "    def __set__(self, instance, value):\n",
    "        print(f'__set__({self}, {instance}, {value})')\n",
    "        instance.__dict__[self.storage_name] = value\n",
    "        \n",
    "class ManagedClassV2:\n",
    "    managed_attribute = DataDescriptorV2('managed_attribute')\n",
    "    another_attribute = DataDescriptorV2('another_attribute')\n",
    "    \n",
    "    def __init__(self, value):\n",
    "        self.managed_attribute = value\n",
    "        \n",
    "        \n",
    "managed_instance = ManagedClassV2('My name')\n",
    "print(type(managed_instance.managed_attribute))\n",
    "print(managed_instance.managed_attribute)\n",
    "print(dir(managed_instance.managed_attribute))\n",
    "print(managed_instance.another_attribute)\n",
    "print(ManagedClass.another_attribute)"
   ]
  },
  {
   "cell_type": "code",
   "execution_count": 33,
   "metadata": {},
   "outputs": [
    {
     "name": "stdout",
     "output_type": "stream",
     "text": [
      "__set__(<__main__.DataDescriptorV3 object at 0x00000294D78AAC10>, <__main__.ManagedClassV3 object at 0x00000294D78AADF0>, My name)\n",
      "['__class__', '__delattr__', '__dict__', '__dir__', '__doc__', '__eq__', '__format__', '__ge__', '__getattribute__', '__gt__', '__hash__', '__init__', '__init_subclass__', '__le__', '__lt__', '__module__', '__ne__', '__new__', '__reduce__', '__reduce_ex__', '__repr__', '__setattr__', '__sizeof__', '__str__', '__subclasshook__', '__weakref__', 'another_attribute', 'attribute0', 'managed_attribute']\n",
      "<__main__.DataDescriptorV3 object at 0x00000294D78AAC10>\n",
      "<class '__main__.ManagedClassV3'>\n"
     ]
    }
   ],
   "source": [
    "class DataDescriptorV3:\n",
    "    __count = 0\n",
    "    \n",
    "    def __init__(self):\n",
    "        self.storage_name = \"attribute\" + str(DataDescriptorV3.__count)\n",
    "        DataDescriptorV3.__count += 1\n",
    "        \n",
    "\n",
    "    \n",
    "    def __set__(self, instance, value):\n",
    "        print(f'__set__({self}, {instance}, {value})')\n",
    "        instance.__dict__[self.storage_name] = value\n",
    "        \n",
    "class ManagedClassV3:\n",
    "    managed_attribute = DataDescriptorV3()\n",
    "    another_attribute = DataDescriptorV3()\n",
    "    \n",
    "    def __init__(self, value):\n",
    "        self.managed_attribute = value\n",
    "        \n",
    "        \n",
    "managed_instance = ManagedClassV3('My name')\n",
    "print(dir(managed_instance))\n",
    "print(managed_instance.managed_attribute)\n",
    "print(type(managed_instance))\n",
    "print(managed_instance.__dict__['managed_attribute'])\n",
    "print(dir(managed_instance.managed_attribute))\n",
    "print(managed_instance.another_attribute)\n",
    "print(ManagedClass.another_attribute)"
   ]
  },
  {
   "cell_type": "code",
   "execution_count": 32,
   "metadata": {},
   "outputs": [
    {
     "name": "stdout",
     "output_type": "stream",
     "text": [
      "__get__\n",
      "this is result\n",
      "this is result\n",
      "this is result\n"
     ]
    }
   ],
   "source": [
    "class Cache:\n",
    "    \n",
    "    def __init__(self, name):\n",
    "        self.name = name\n",
    "        \n",
    "    def __get__(self, instance, owner):\n",
    "        print('__get__')\n",
    "        result = \"this is result\"\n",
    "        instance.__dict__[self.name] = result\n",
    "        \n",
    "        return result\n",
    "    \n",
    "class MyClass:\n",
    "    \n",
    "    my_attr = Cache(\"my_attr\")\n",
    "    \n",
    "    def show(self):\n",
    "        print(self.my_attr)\n",
    "        \n",
    "my_obj = MyClass()\n",
    "my_obj.show()\n",
    "my_obj.show()\n",
    "my_obj.show()"
   ]
  },
  {
   "cell_type": "markdown",
   "metadata": {},
   "source": [
    "Notice that the `__get__()` method is called only one time. The result was stored in the instance attribute with the same name. Consequent access to this attribute doesn't invoke the descriptor anymore, but retrieves directly from the instance attribute."
   ]
  },
  {
   "cell_type": "markdown",
   "metadata": {},
   "source": [
    "Pseudo code of function in Python:\n",
    "\n",
    "```python\n",
    "\n",
    "class BoundMethod:\n",
    "    \n",
    "    def __init__(self, func, obj):\n",
    "        self.func = func  # store the func\n",
    "        self.obj = obj  # store the obj (which is the instance of a class)\n",
    "        \n",
    "    def __call__(self, *args, **kwargs):\n",
    "        return self.func(self.obj, *args, **kwargs)  # Execute the bound method when we call: obj.method(*args, **kwargs)\n",
    "\n",
    "class function:\n",
    "    \n",
    "    def __init__(self):\n",
    "        pass\n",
    "    \n",
    "    def __get__(self, instance, owner):\n",
    "        # instance is none means that this is accessed via a class, something like Klass.function\n",
    "        if instance is None: \n",
    "            return self  # return the function itself.\n",
    "        else:\n",
    "            return BoundMethod(self, instance)  # create a bound method object that wrap itself, and the instance\n",
    "        \n",
    "    # There will be no __set__ because function is a non-overriding descriptor.\n",
    "    # You could always monkey-patching a function by writing: instance.method = something\n",
    "        \n",
    "    def __call__(self, *args, **kwargs):\n",
    "        return self(*args, **kwargs)\n",
    "```\n",
    "\n",
    "The fact that function is a non-overriding descriptor is mindblowing to me the first time I learn it. There's something really clever and sophisticated about this implementation:<br>\n",
    "With a simple descriptor, you could turn an original class (the `function` class in this case) into a different object depends on the usecases:\n",
    "1. If invoked by a class, it's a function\n",
    "2. If access via an instance, it's a bound method of that instance.\n",
    "\n",
    "Can we apply this pattern to other usecases?\n",
    "Let's analyze it first:\n",
    "1. You know about `instance` and `owner` so any conditions you could form using these two factors could be used to branch the flow.\n",
    "2. You will want to return something that is similar to the current obj.\n",
    "\n",
    "```python\n",
    "    class classmethod(func):\n",
    "        \n",
    "        def __init__(self, func):\n",
    "            self._func = func\n",
    "            \n",
    "        def __get__(self, instance, owner):\n",
    "            if instance is None:\n",
    "                return BoundMethod(owner, func)\n",
    "            else:\n",
    "                return BoundMethod(type(instance), func)\n",
    "            \n",
    "    class staticmethod(func):\n",
    "        \n",
    "        def __init__(self, func):\n",
    "            self._func = func\n",
    "            \n",
    "        def __get__(self, instance, owner):\n",
    "            # Simple return the function itself. Upon invocation, no special argument was passed into it.\n",
    "            return func\n",
    "```"
   ]
  },
  {
   "cell_type": "code",
   "execution_count": 72,
   "metadata": {},
   "outputs": [
    {
     "name": "stdout",
     "output_type": "stream",
     "text": [
      "<class 'classmethod'>\n",
      "<class 'staticmethod'>\n",
      "<staticmethod object at 0x00000294D6110850>\n",
      "<classmethod object at 0x00000294D61100D0>\n",
      "klass\n",
      "<bound method Klass.show of <class '__main__.Klass'>>\n",
      "<bound method Klass.show of <class '__main__.Klass'>>\n",
      "2838289806528\n",
      "<function Klass.show_static at 0x00000294D784BAF0>\n",
      "2838289806528\n",
      "2838289784384\n",
      "2838289806528\n",
      "2838289784384\n",
      "2838289806528\n",
      "<function Klass.show_static at 0x00000294D784BAF0>\n",
      "2838294215408\n",
      "2838294215408\n"
     ]
    }
   ],
   "source": [
    "class Klass():\n",
    "\n",
    "    print(classmethod)\n",
    "    @classmethod\n",
    "    def show(kls):\n",
    "        print('klass')\n",
    "        \n",
    "    print(staticmethod)\n",
    "    @staticmethod\n",
    "    def show_static():\n",
    "        print('static')\n",
    "        \n",
    "    def normal_method(self):\n",
    "        pass\n",
    "        \n",
    "    print(show_static)\n",
    "    print(show)\n",
    "        \n",
    "obj = Klass()\n",
    "obj.show()\n",
    "print(obj.show)\n",
    "print(Klass.show)\n",
    "print(id(obj.show))\n",
    "\n",
    "\n",
    "\n",
    "\n",
    "print(obj.show_static)\n",
    "print(id(Klass.show))\n",
    "print(id(Klass.show))\n",
    "print(id(Klass.show))\n",
    "print(id(Klass.show))\n",
    "print(id(Klass.show))\n",
    "print(Klass.show_static)\n",
    "print(id(obj.show_static))\n",
    "print(id(Klass.show_static))"
   ]
  },
  {
   "cell_type": "code",
   "execution_count": 79,
   "metadata": {},
   "outputs": [
    {
     "name": "stdout",
     "output_type": "stream",
     "text": [
      "<class 'namedtuple_myclass.myclass'>\n",
      "{'__name__': 'namedtuple_myclass', '__builtins__': {'__name__': 'builtins', '__doc__': \"Built-in functions, exceptions, and other objects.\\n\\nNoteworthy: None is the `nil' object; Ellipsis represents `...' in slices.\", '__package__': '', '__loader__': <class '_frozen_importlib.BuiltinImporter'>, '__spec__': ModuleSpec(name='builtins', loader=<class '_frozen_importlib.BuiltinImporter'>), '__build_class__': <built-in function __build_class__>, '__import__': <built-in function __import__>, 'abs': <built-in function abs>, 'all': <built-in function all>, 'any': <built-in function any>, 'ascii': <built-in function ascii>, 'bin': <built-in function bin>, 'breakpoint': <built-in function breakpoint>, 'callable': <built-in function callable>, 'chr': <built-in function chr>, 'compile': <built-in function compile>, 'delattr': <built-in function delattr>, 'dir': <built-in function dir>, 'divmod': <built-in function divmod>, 'eval': <built-in function eval>, 'exec': <built-in function exec>, 'format': <built-in function format>, 'getattr': <built-in function getattr>, 'globals': <built-in function globals>, 'hasattr': <built-in function hasattr>, 'hash': <built-in function hash>, 'hex': <built-in function hex>, 'id': <built-in function id>, 'input': <bound method Kernel.raw_input of <ipykernel.ipkernel.IPythonKernel object at 0x00000294D5FEA9A0>>, 'isinstance': <built-in function isinstance>, 'issubclass': <built-in function issubclass>, 'iter': <built-in function iter>, 'len': <built-in function len>, 'locals': <built-in function locals>, 'max': <built-in function max>, 'min': <built-in function min>, 'next': <built-in function next>, 'oct': <built-in function oct>, 'ord': <built-in function ord>, 'pow': <built-in function pow>, 'print': <built-in function print>, 'repr': <built-in function repr>, 'round': <built-in function round>, 'setattr': <built-in function setattr>, 'sorted': <built-in function sorted>, 'sum': <built-in function sum>, 'vars': <built-in function vars>, 'None': None, 'Ellipsis': Ellipsis, 'NotImplemented': NotImplemented, 'False': False, 'True': True, 'bool': <class 'bool'>, 'memoryview': <class 'memoryview'>, 'bytearray': <class 'bytearray'>, 'bytes': <class 'bytes'>, 'classmethod': <class 'classmethod'>, 'complex': <class 'complex'>, 'dict': <class 'dict'>, 'enumerate': <class 'enumerate'>, 'filter': <class 'filter'>, 'float': <class 'float'>, 'frozenset': <class 'frozenset'>, 'property': <class 'property'>, 'int': <class 'int'>, 'list': <class 'list'>, 'map': <class 'map'>, 'object': <class 'object'>, 'range': <class 'range'>, 'reversed': <class 'reversed'>, 'set': <class 'set'>, 'slice': <class 'slice'>, 'staticmethod': <class 'staticmethod'>, 'str': <class 'str'>, 'super': <class 'super'>, 'tuple': <class 'tuple'>, 'type': <class 'type'>, 'zip': <class 'zip'>, '__debug__': True, 'BaseException': <class 'BaseException'>, 'Exception': <class 'Exception'>, 'TypeError': <class 'TypeError'>, 'StopAsyncIteration': <class 'StopAsyncIteration'>, 'StopIteration': <class 'StopIteration'>, 'GeneratorExit': <class 'GeneratorExit'>, 'SystemExit': <class 'SystemExit'>, 'KeyboardInterrupt': <class 'KeyboardInterrupt'>, 'ImportError': <class 'ImportError'>, 'ModuleNotFoundError': <class 'ModuleNotFoundError'>, 'OSError': <class 'OSError'>, 'EnvironmentError': <class 'OSError'>, 'IOError': <class 'OSError'>, 'WindowsError': <class 'OSError'>, 'EOFError': <class 'EOFError'>, 'RuntimeError': <class 'RuntimeError'>, 'RecursionError': <class 'RecursionError'>, 'NotImplementedError': <class 'NotImplementedError'>, 'NameError': <class 'NameError'>, 'UnboundLocalError': <class 'UnboundLocalError'>, 'AttributeError': <class 'AttributeError'>, 'SyntaxError': <class 'SyntaxError'>, 'IndentationError': <class 'IndentationError'>, 'TabError': <class 'TabError'>, 'LookupError': <class 'LookupError'>, 'IndexError': <class 'IndexError'>, 'KeyError': <class 'KeyError'>, 'ValueError': <class 'ValueError'>, 'UnicodeError': <class 'UnicodeError'>, 'UnicodeEncodeError': <class 'UnicodeEncodeError'>, 'UnicodeDecodeError': <class 'UnicodeDecodeError'>, 'UnicodeTranslateError': <class 'UnicodeTranslateError'>, 'AssertionError': <class 'AssertionError'>, 'ArithmeticError': <class 'ArithmeticError'>, 'FloatingPointError': <class 'FloatingPointError'>, 'OverflowError': <class 'OverflowError'>, 'ZeroDivisionError': <class 'ZeroDivisionError'>, 'SystemError': <class 'SystemError'>, 'ReferenceError': <class 'ReferenceError'>, 'MemoryError': <class 'MemoryError'>, 'BufferError': <class 'BufferError'>, 'Warning': <class 'Warning'>, 'UserWarning': <class 'UserWarning'>, 'DeprecationWarning': <class 'DeprecationWarning'>, 'PendingDeprecationWarning': <class 'PendingDeprecationWarning'>, 'SyntaxWarning': <class 'SyntaxWarning'>, 'RuntimeWarning': <class 'RuntimeWarning'>, 'FutureWarning': <class 'FutureWarning'>, 'ImportWarning': <class 'ImportWarning'>, 'UnicodeWarning': <class 'UnicodeWarning'>, 'BytesWarning': <class 'BytesWarning'>, 'ResourceWarning': <class 'ResourceWarning'>, 'ConnectionError': <class 'ConnectionError'>, 'BlockingIOError': <class 'BlockingIOError'>, 'BrokenPipeError': <class 'BrokenPipeError'>, 'ChildProcessError': <class 'ChildProcessError'>, 'ConnectionAbortedError': <class 'ConnectionAbortedError'>, 'ConnectionRefusedError': <class 'ConnectionRefusedError'>, 'ConnectionResetError': <class 'ConnectionResetError'>, 'FileExistsError': <class 'FileExistsError'>, 'FileNotFoundError': <class 'FileNotFoundError'>, 'IsADirectoryError': <class 'IsADirectoryError'>, 'NotADirectoryError': <class 'NotADirectoryError'>, 'InterruptedError': <class 'InterruptedError'>, 'PermissionError': <class 'PermissionError'>, 'ProcessLookupError': <class 'ProcessLookupError'>, 'TimeoutError': <class 'TimeoutError'>, 'open': <built-in function open>, 'copyright': Copyright (c) 2001-2020 Python Software Foundation.\n",
      "All Rights Reserved.\n",
      "\n",
      "Copyright (c) 2000 BeOpen.com.\n",
      "All Rights Reserved.\n",
      "\n",
      "Copyright (c) 1995-2001 Corporation for National Research Initiatives.\n",
      "All Rights Reserved.\n",
      "\n",
      "Copyright (c) 1991-1995 Stichting Mathematisch Centrum, Amsterdam.\n",
      "All Rights Reserved., 'credits':     Thanks to CWI, CNRI, BeOpen.com, Zope Corporation and a cast of thousands\n",
      "    for supporting Python development.  See www.python.org for more information., 'license': Type license() to see the full license text, 'help': Type help() for interactive help, or help(object) for help about object., '__IPYTHON__': True, 'display': <function display at 0x00000294D422BD30>, 'get_ipython': <bound method InteractiveShell.get_ipython of <ipykernel.zmqshell.ZMQInteractiveShell object at 0x00000294D602B850>>}, 'myclass': <class 'namedtuple_myclass.myclass'>}\n"
     ]
    },
    {
     "ename": "AttributeError",
     "evalue": "type object 'myclass' has no attribute '__code__'",
     "output_type": "error",
     "traceback": [
      "\u001b[1;31m---------------------------------------------------------------------------\u001b[0m",
      "\u001b[1;31mAttributeError\u001b[0m                            Traceback (most recent call last)",
      "\u001b[1;32m<ipython-input-79-409f49223ed8>\u001b[0m in \u001b[0;36m<module>\u001b[1;34m\u001b[0m\n\u001b[0;32m     16\u001b[0m \u001b[0mprint\u001b[0m\u001b[1;33m(\u001b[0m\u001b[0mresult\u001b[0m\u001b[1;33m)\u001b[0m\u001b[1;33m\u001b[0m\u001b[1;33m\u001b[0m\u001b[0m\n\u001b[0;32m     17\u001b[0m \u001b[0mprint\u001b[0m\u001b[1;33m(\u001b[0m\u001b[0mnamespace\u001b[0m\u001b[1;33m)\u001b[0m\u001b[1;33m\u001b[0m\u001b[1;33m\u001b[0m\u001b[0m\n\u001b[1;32m---> 18\u001b[1;33m \u001b[0mprint\u001b[0m\u001b[1;33m(\u001b[0m\u001b[0mresult\u001b[0m\u001b[1;33m.\u001b[0m\u001b[0m__code__\u001b[0m\u001b[1;33m)\u001b[0m\u001b[1;33m\u001b[0m\u001b[1;33m\u001b[0m\u001b[0m\n\u001b[0m",
      "\u001b[1;31mAttributeError\u001b[0m: type object 'myclass' has no attribute '__code__'"
     ]
    }
   ],
   "source": [
    "class_definition = \"\"\"\\\n",
    "class myclass:\n",
    "\n",
    "    def __init__(self):\n",
    "        pass\n",
    "        \n",
    "    def show(self):\n",
    "        print('abc')\n",
    "\"\"\"\n",
    "\n",
    "typename = \"myclass\"\n",
    "namespace = dict(__name__='namedtuple_%s' % typename)\n",
    "exec(class_definition, namespace)\n",
    "result = namespace[typename]\n",
    "\n",
    "print(result)\n",
    "print(namespace)\n"
   ]
  },
  {
   "cell_type": "code",
   "execution_count": 81,
   "metadata": {},
   "outputs": [
    {
     "name": "stdout",
     "output_type": "stream",
     "text": [
      "<code object func at 0x00000294D71E3BE0, file \"<ipython-input-81-ea9d805fed58>\", line 1>\n"
     ]
    }
   ],
   "source": [
    "def func():\n",
    "    pass\n",
    "\n",
    "print(func.__code__)"
   ]
  },
  {
   "cell_type": "markdown",
   "metadata": {},
   "source": [
    "Attempt to write a class decorator to set the storage name after the managed class is created. This removes the need to supply the name of the managed attribute when instantiate a descriptor instance"
   ]
  },
  {
   "cell_type": "code",
   "execution_count": 82,
   "metadata": {},
   "outputs": [
    {
     "ename": "AttributeError",
     "evalue": "'descriptor' object has no attribute 'storage_name'",
     "output_type": "error",
     "traceback": [
      "\u001b[1;31m---------------------------------------------------------------------------\u001b[0m",
      "\u001b[1;31mAttributeError\u001b[0m                            Traceback (most recent call last)",
      "\u001b[1;32m<ipython-input-82-9f80a3ca3baf>\u001b[0m in \u001b[0;36m<module>\u001b[1;34m\u001b[0m\n\u001b[0;32m     13\u001b[0m         \u001b[0mself\u001b[0m\u001b[1;33m.\u001b[0m\u001b[0mattr\u001b[0m \u001b[1;33m=\u001b[0m \u001b[0mvalue\u001b[0m\u001b[1;33m\u001b[0m\u001b[1;33m\u001b[0m\u001b[0m\n\u001b[0;32m     14\u001b[0m \u001b[1;33m\u001b[0m\u001b[0m\n\u001b[1;32m---> 15\u001b[1;33m \u001b[0mobj\u001b[0m \u001b[1;33m=\u001b[0m \u001b[0mmyclass\u001b[0m\u001b[1;33m(\u001b[0m\u001b[1;34m'Initial value'\u001b[0m\u001b[1;33m)\u001b[0m\u001b[1;33m\u001b[0m\u001b[1;33m\u001b[0m\u001b[0m\n\u001b[0m\u001b[0;32m     16\u001b[0m \u001b[0mprint\u001b[0m\u001b[1;33m(\u001b[0m\u001b[0mobj\u001b[0m\u001b[1;33m.\u001b[0m\u001b[0mattr\u001b[0m\u001b[1;33m)\u001b[0m\u001b[1;33m\u001b[0m\u001b[1;33m\u001b[0m\u001b[0m\n",
      "\u001b[1;32m<ipython-input-82-9f80a3ca3baf>\u001b[0m in \u001b[0;36m__init__\u001b[1;34m(self, value)\u001b[0m\n\u001b[0;32m     11\u001b[0m \u001b[1;33m\u001b[0m\u001b[0m\n\u001b[0;32m     12\u001b[0m     \u001b[1;32mdef\u001b[0m \u001b[0m__init__\u001b[0m\u001b[1;33m(\u001b[0m\u001b[0mself\u001b[0m\u001b[1;33m,\u001b[0m \u001b[0mvalue\u001b[0m\u001b[1;33m)\u001b[0m\u001b[1;33m:\u001b[0m\u001b[1;33m\u001b[0m\u001b[1;33m\u001b[0m\u001b[0m\n\u001b[1;32m---> 13\u001b[1;33m         \u001b[0mself\u001b[0m\u001b[1;33m.\u001b[0m\u001b[0mattr\u001b[0m \u001b[1;33m=\u001b[0m \u001b[0mvalue\u001b[0m\u001b[1;33m\u001b[0m\u001b[1;33m\u001b[0m\u001b[0m\n\u001b[0m\u001b[0;32m     14\u001b[0m \u001b[1;33m\u001b[0m\u001b[0m\n\u001b[0;32m     15\u001b[0m \u001b[0mobj\u001b[0m \u001b[1;33m=\u001b[0m \u001b[0mmyclass\u001b[0m\u001b[1;33m(\u001b[0m\u001b[1;34m'Initial value'\u001b[0m\u001b[1;33m)\u001b[0m\u001b[1;33m\u001b[0m\u001b[1;33m\u001b[0m\u001b[0m\n",
      "\u001b[1;32m<ipython-input-82-9f80a3ca3baf>\u001b[0m in \u001b[0;36m__set__\u001b[1;34m(self, instance, value)\u001b[0m\n\u001b[0;32m      2\u001b[0m \u001b[1;33m\u001b[0m\u001b[0m\n\u001b[0;32m      3\u001b[0m     \u001b[1;32mdef\u001b[0m \u001b[0m__set__\u001b[0m\u001b[1;33m(\u001b[0m\u001b[0mself\u001b[0m\u001b[1;33m,\u001b[0m \u001b[0minstance\u001b[0m\u001b[1;33m,\u001b[0m \u001b[0mvalue\u001b[0m\u001b[1;33m)\u001b[0m\u001b[1;33m:\u001b[0m\u001b[1;33m\u001b[0m\u001b[1;33m\u001b[0m\u001b[0m\n\u001b[1;32m----> 4\u001b[1;33m         \u001b[0minstance\u001b[0m\u001b[1;33m.\u001b[0m\u001b[0m__dict__\u001b[0m\u001b[1;33m[\u001b[0m\u001b[0mself\u001b[0m\u001b[1;33m.\u001b[0m\u001b[0mstorage_name\u001b[0m\u001b[1;33m]\u001b[0m \u001b[1;33m=\u001b[0m \u001b[0mvalue\u001b[0m\u001b[1;33m\u001b[0m\u001b[1;33m\u001b[0m\u001b[0m\n\u001b[0m\u001b[0;32m      5\u001b[0m \u001b[1;33m\u001b[0m\u001b[0m\n\u001b[0;32m      6\u001b[0m     \u001b[1;32mdef\u001b[0m \u001b[0m__get__\u001b[0m\u001b[1;33m(\u001b[0m\u001b[0mself\u001b[0m\u001b[1;33m,\u001b[0m \u001b[0minstance\u001b[0m\u001b[1;33m,\u001b[0m \u001b[0mcls\u001b[0m\u001b[1;33m)\u001b[0m\u001b[1;33m:\u001b[0m\u001b[1;33m\u001b[0m\u001b[1;33m\u001b[0m\u001b[0m\n",
      "\u001b[1;31mAttributeError\u001b[0m: 'descriptor' object has no attribute 'storage_name'"
     ]
    }
   ],
   "source": [
    "class descriptor:\n",
    "    \n",
    "    def __set__(self, instance, value):\n",
    "        instance.__dict__[self.storage_name] = value\n",
    "        \n",
    "    def __get__(self, instance, cls):\n",
    "        return instance.__dict__[self.storage_name]\n",
    "    \n",
    "class myclass:\n",
    "    attr = descriptor()\n",
    "    \n",
    "    def __init__(self, value):\n",
    "        self.attr = value\n",
    "        \n",
    "obj = myclass('Initial value')\n",
    "print(obj.attr)"
   ]
  },
  {
   "cell_type": "markdown",
   "metadata": {},
   "source": [
    "The error is well expected, the `descriptor instance` doesn't know where to store the value without `storage name`."
   ]
  },
  {
   "cell_type": "code",
   "execution_count": 88,
   "metadata": {},
   "outputs": [
    {
     "name": "stdout",
     "output_type": "stream",
     "text": [
      "Initial value\n",
      "{'attr': 'Initial value'}\n"
     ]
    }
   ],
   "source": [
    "def NameDecorator(cls):\n",
    "    # Inspect the class, look for managed attribute\n",
    "    for attr_name, obj in cls.__dict__.items():\n",
    "        if hasattr(obj, '__get__'):\n",
    "            # Make sure this is our descriptor class which has 'storage_name' attr\n",
    "            if hasattr(obj, 'storage_name'):\n",
    "                # Tell the descriptor to store value under storage attribute\n",
    "                # that has the same name with managed attribute\n",
    "                # the attr_name we're looking at here is the managed attribute\n",
    "                # don't be mistaken with the storage attribute which is an instance attribute\n",
    "                obj.storage_name = attr_name\n",
    "            \n",
    "    return cls\n",
    "\n",
    "class descriptor:\n",
    "    \n",
    "    def __init__(self):\n",
    "        self.storage_name = None\n",
    "    \n",
    "    def __set__(self, instance, value):\n",
    "        instance.__dict__[self.storage_name] = value\n",
    "        \n",
    "    def __get__(self, instance, cls):\n",
    "        return instance.__dict__[self.storage_name]\n",
    "    \n",
    "@NameDecorator\n",
    "class myclass:\n",
    "    attr = descriptor()\n",
    "    \n",
    "    def __init__(self, value):\n",
    "        self.attr = value\n",
    "        \n",
    "obj = myclass('Initial value')\n",
    "print(obj.attr)\n",
    "print(obj.__dict__)"
   ]
  },
  {
   "cell_type": "markdown",
   "metadata": {},
   "source": [
    "Voila!!! By inspecting the class after it's created, we can find the managed attribute name and give it to descriptor instance.\n",
    "\n",
    "This seems to be complex at first due to the relationships between the descriptor, the class, and the instances of both. Once we have a clear understanding of this gang, it's an sophisticated yet elegant solution.\n",
    "\n",
    "Now, let's try another solution with a metaclass."
   ]
  },
  {
   "cell_type": "code",
   "execution_count": 97,
   "metadata": {},
   "outputs": [
    {
     "name": "stdout",
     "output_type": "stream",
     "text": [
      "Initial value\n",
      "{'attr': 'Initial value'}\n"
     ]
    }
   ],
   "source": [
    "class MyMetaDeco(type):  # a Metaclass can be defined as easily as subclassing type\n",
    "    \n",
    "    # it's a convention to name the first argument of __init__ \n",
    "    # to be \"cls\" instead of \"self\" to make it clear that\n",
    "    # the instance being modified is a class, not an instance of a class\n",
    "    def __init__(cls, name, base, dic):  \n",
    "        # Everything else should be the same with our decorator\n",
    "        for attr_name, obj in cls.__dict__.items():\n",
    "            if hasattr(obj, '__get__'):\n",
    "                # Make sure this is our descriptor class which has 'storage_name' attr\n",
    "                if hasattr(obj, 'storage_name'):\n",
    "                    # Tell the descriptor to store value under storage attribute\n",
    "                    # that has the same name with managed attribute\n",
    "                    # the attr_name we're looking at here is the managed attribute\n",
    "                    # don't be mistaken with the storage attribute which is an instance attribute\n",
    "                    obj.storage_name = attr_name\n",
    "                \n",
    "class descriptor:\n",
    "    \n",
    "    def __init__(self):\n",
    "        self.storage_name = None\n",
    "    \n",
    "    def __set__(self, instance, value):\n",
    "        instance.__dict__[self.storage_name] = value\n",
    "        \n",
    "    def __get__(self, instance, cls):\n",
    "        return instance.__dict__[self.storage_name]\n",
    "    \n",
    "    \n",
    "class myclass(metaclass=MyMetaDeco):  # define the metaclass to be our metaclass, default will be the class \"type\"\n",
    "    attr = descriptor()\n",
    "    \n",
    "    def __init__(self, value):\n",
    "        self.attr = value\n",
    "        \n",
    "obj = myclass('Initial value')\n",
    "print(obj.attr)\n",
    "print(obj.__dict__)"
   ]
  },
  {
   "cell_type": "markdown",
   "metadata": {},
   "source": [
    "Same effect has been achieved. The difference, you may ask?\n",
    "Any subclass of `myclass` will also have this convenient feature."
   ]
  },
  {
   "cell_type": "code",
   "execution_count": 102,
   "metadata": {},
   "outputs": [
    {
     "name": "stdout",
     "output_type": "stream",
     "text": [
      "Initial value\n",
      "{'subattr': 'Initial value'}\n"
     ]
    }
   ],
   "source": [
    "class MyMetaDeco(type):  # a Metaclass can be defined as easily as subclassing type\n",
    "    \n",
    "    # it's a convention to name the first argument of __init__ \n",
    "    # to be \"cls\" instead of \"self\" to make it clear that\n",
    "    # the instance being modified is a class, not an instance of a class\n",
    "    def __init__(cls, name, base, dic):  \n",
    "        # Everything else should be the same with our decorator\n",
    "        for attr_name, obj in cls.__dict__.items():\n",
    "            if hasattr(obj, '__get__'):\n",
    "                # Make sure this is our descriptor class which has 'storage_name' attr\n",
    "                if hasattr(obj, 'storage_name'):\n",
    "                    # Tell the descriptor to store value under storage attribute\n",
    "                    # that has the same name with managed attribute\n",
    "                    # the attr_name we're looking at here is the managed attribute\n",
    "                    # don't be mistaken with the storage attribute which is an instance attribute\n",
    "                    obj.storage_name = attr_name\n",
    "                \n",
    "class descriptor:\n",
    "    \n",
    "    def __init__(self):\n",
    "        self.storage_name = None\n",
    "    \n",
    "    def __set__(self, instance, value):\n",
    "        instance.__dict__[self.storage_name] = value\n",
    "        \n",
    "    def __get__(self, instance, cls):\n",
    "        return instance.__dict__[self.storage_name]\n",
    "    \n",
    "    \n",
    "class myclass(metaclass=MyMetaDeco):  # define the metaclass to be our metaclass, default will be the class \"type\"\n",
    "    attr = descriptor()\n",
    "    \n",
    "    def __init__(self, value):\n",
    "        self.attr = value\n",
    "        \n",
    "        \n",
    "# Create a subclass of myclass,\n",
    "# the subclass will also be able\n",
    "# to register the name of managed attribute\n",
    "# with the descriptor instance\n",
    "class mysub(myclass):\n",
    "    subattr = descriptor()\n",
    "    \n",
    "    def __init__(self, value):\n",
    "        self.subattr = value\n",
    "        \n",
    "obj = mysub('Initial value')\n",
    "print(obj.subattr)\n",
    "print(obj.__dict__)"
   ]
  },
  {
   "cell_type": "markdown",
   "metadata": {},
   "source": [
    " This cannot be achieved with decorator, since the decorator only affect the decorated class."
   ]
  },
  {
   "cell_type": "code",
   "execution_count": 100,
   "metadata": {},
   "outputs": [
    {
     "name": "stdout",
     "output_type": "stream",
     "text": [
      "Initial value\n",
      "{'attr': 'Initial value'}\n",
      "Initial value\n",
      "{None: 'Initial value'}\n"
     ]
    }
   ],
   "source": [
    "def NameDecorator(cls):\n",
    "    # Inspect the class, look for managed attribute\n",
    "    for attr_name, obj in cls.__dict__.items():\n",
    "        if hasattr(obj, '__get__'):\n",
    "            # Make sure this is our descriptor class which has 'storage_name' attr\n",
    "            if hasattr(obj, 'storage_name'):\n",
    "                # Tell the descriptor to store value under storage attribute\n",
    "                # that has the same name with managed attribute\n",
    "                # the attr_name we're looking at here is the managed attribute\n",
    "                # don't be mistaken with the storage attribute which is an instance attribute\n",
    "                obj.storage_name = attr_name\n",
    "            \n",
    "    return cls\n",
    "\n",
    "class descriptor:\n",
    "    \n",
    "    def __init__(self):\n",
    "        self.storage_name = None\n",
    "    \n",
    "    def __set__(self, instance, value):\n",
    "        instance.__dict__[self.storage_name] = value\n",
    "        \n",
    "    def __get__(self, instance, cls):\n",
    "        return instance.__dict__[self.storage_name]\n",
    "    \n",
    "@NameDecorator\n",
    "class myclass:\n",
    "    attr = descriptor()\n",
    "    \n",
    "    def __init__(self, value):\n",
    "        self.attr = value\n",
    "        \n",
    "class mysub(myclass):\n",
    "    subattr = descriptor()\n",
    "    \n",
    "    def __init__(self, value):\n",
    "        self.subattr = value\n",
    "        \n",
    "myclass_obj = myclass('Initial value')\n",
    "print(myclass_obj.attr)\n",
    "print(myclass_obj.__dict__)\n",
    "\n",
    "obj = mysub('Initial value')\n",
    "print(obj.subattr)\n",
    "print(obj.__dict__)"
   ]
  },
  {
   "cell_type": "markdown",
   "metadata": {},
   "source": [
    "A couple of things going on here:\n",
    "1. when `obj` is instantiated, `__init__` is invoked to assign 'Initial value' to `subattr`\n",
    "2. since we have a managed attribute with same name, i.e. `subattr`, the descriptor's `__set__` is invoked to handle the assignment\n",
    "3. However, the assignment was done by assigning the string 'Initial value' to `obj.__dict__` under the name `None` because by default, the descriptor instance's `storage_name` is `None`\n",
    "4. When we're retrieving `obj.subattr`, the descriptor `__get__` was invoked to retrieve the value from `obj.__dict__`, looking for the `storage_name` `None` which does exist. Hence, the value `Initial value` was retrieved.\n",
    "5. Inspecting the `obj.__dict__` clearly shows that the value was not stored under the same name with `store attribute`. This is different from how the `attr` of `myclass` was stored."
   ]
  },
  {
   "cell_type": "code",
   "execution_count": 116,
   "metadata": {},
   "outputs": [
    {
     "name": "stdout",
     "output_type": "stream",
     "text": [
      "<1> MyMeta body\n",
      "<10> __prepare__\n",
      "<4> MyClass body\n",
      "Something else\n",
      "<function MyClass.myfunc at 0x00000294D7D93790>\n",
      "<class '__main__.MyClass'>\n",
      "<2> __new__(<class '__main__.MyMeta'>, 'MyClass', (), {'__module__': '__main__', '__qualname__': 'MyClass', 'myfunc': <function MyClass.myfunc at 0x00000294D7D93790>})\n",
      "<3> __init__(<class '__main__.MyClass'>, MyClass, (), {'__module__': '__main__', '__qualname__': 'MyClass', 'myfunc': <function MyClass.myfunc at 0x00000294D7D93790>})\n",
      "<class '__main__.MyClass'>\n"
     ]
    }
   ],
   "source": [
    "class MyMeta(type):\n",
    "    print(\"<1> MyMeta body\")\n",
    "    \n",
    "    @classmethod\n",
    "    def __prepare__(cls, name, bases):\n",
    "        print(\"<10> __prepare__\")\n",
    "        return dict()\n",
    "    \n",
    "    def __new__(self, cls, bases, dic):\n",
    "        print(f\"<2> __new__({self}, {cls!r}, {bases}, {dic})\")\n",
    "        return super().__new__(self, cls, bases, dic)\n",
    "    \n",
    "    def __init__(self, cls, bases, dic):\n",
    "        print(f\"<3> __init__({self}, {cls}, {bases}, {dic})\")\n",
    "        \n",
    "        super().__init__(cls, bases, dic)\n",
    "        \n",
    "class MyClass(metaclass=MyMeta):\n",
    "    print(\"<4> MyClass body\")\n",
    "    print(\"Something else\")\n",
    "    \n",
    "    def myfunc(self):\n",
    "        pass\n",
    "    \n",
    "    print(myfunc)\n",
    "    print(MyClass)\n",
    "    \n",
    "print(MyClass)"
   ]
  },
  {
   "cell_type": "markdown",
   "metadata": {},
   "source": [
    "Observe the order in which a class is defined above."
   ]
  }
 ],
 "metadata": {
  "kernelspec": {
   "display_name": "Python 3",
   "language": "python",
   "name": "python3"
  },
  "language_info": {
   "codemirror_mode": {
    "name": "ipython",
    "version": 3
   },
   "file_extension": ".py",
   "mimetype": "text/x-python",
   "name": "python",
   "nbconvert_exporter": "python",
   "pygments_lexer": "ipython3",
   "version": "3.8.2"
  }
 },
 "nbformat": 4,
 "nbformat_minor": 4
}
