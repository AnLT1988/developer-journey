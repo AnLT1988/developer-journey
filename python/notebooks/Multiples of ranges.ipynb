{
 "cells": [
  {
   "cell_type": "markdown",
   "metadata": {},
   "source": [
    "Find the sum of all numbers that divisiable by 3 or 5 that is less than 1000"
   ]
  },
  {
   "cell_type": "code",
   "execution_count": 1,
   "metadata": {},
   "outputs": [],
   "source": [
    "m3 = list(range(3, 1000, 3))\n",
    "m3"
   ]
  },
  {
   "cell_type": "code",
   "execution_count": 2,
   "metadata": {},
   "outputs": [],
   "source": [
    "m5 = list(range(5, 1000, 5))\n",
    "m5"
   ]
  },
  {
   "cell_type": "markdown",
   "metadata": {},
   "source": [
    "We need to find the common multiplies of 3 and 5 to exclude it from these two list.\n",
    "The common multiplies of 3 and 5 is 15"
   ]
  },
  {
   "cell_type": "code",
   "execution_count": 3,
   "metadata": {},
   "outputs": [],
   "source": [
    "m15 = list(range(15, 1000, 15))\n",
    "m15"
   ]
  },
  {
   "cell_type": "code",
   "execution_count": 4,
   "metadata": {},
   "outputs": [],
   "source": [
    "s35 = set(m3).union(set(m5))\n",
    "s35"
   ]
  },
  {
   "cell_type": "code",
   "execution_count": 5,
   "metadata": {},
   "outputs": [
    {
     "data": {
      "text/plain": [
       "233168"
      ]
     },
     "execution_count": 5,
     "metadata": {},
     "output_type": "execute_result"
    }
   ],
   "source": [
    "sum(s35)"
   ]
  },
  {
   "cell_type": "code",
   "execution_count": 6,
   "metadata": {},
   "outputs": [
    {
     "name": "stdout",
     "output_type": "stream",
     "text": [
      "39\n"
     ]
    }
   ],
   "source": [
    "import itertools\n",
    "\n",
    "\n",
    "def multiples_array(nums, limit):\n",
    "    final_set = set()\n",
    "    final_array = []\n",
    "    for num in nums:\n",
    "        final_array += list(range(num, limit, num))\n",
    "        \n",
    "    return set(final_array)\n",
    "\n",
    "def multiples(nums, limit):\n",
    "    final_set = set()\n",
    "    final_array = []\n",
    "    for num in nums:\n",
    "        final_array += list(range(num, limit, num))\n",
    "        \n",
    "    return sum(set(final_array))\n",
    "\n",
    "print(multiples([39], 40))"
   ]
  },
  {
   "cell_type": "code",
   "execution_count": 7,
   "metadata": {},
   "outputs": [],
   "source": [
    "assert multiples([1], 100) == 4950, \"Multiples of 1 in the range of 1 to 100 inclusive should equal 5050\"\n",
    "assert multiples([3, 5], 1000) == 233168, \"Multiples of 3, 5 in the range of 1 to 1000 inclusive should equal 233168\"\n",
    "assert multiples([], 1000) == 0, \"Multiples of 3, 5 in the range of 1 to 1000 inclusive should equal 233168\""
   ]
  },
  {
   "cell_type": "code",
   "execution_count": 8,
   "metadata": {},
   "outputs": [],
   "source": [
    "def remove_factors(nums):\n",
    "    nums = list(set(nums))\n",
    "    pairs = itertools.combinations(nums, 2)\n",
    "\n",
    "    for first, second in pairs:\n",
    "        first, second = (first, second) if first >= second else (second, first)\n",
    "        if first in nums and first % second == 0:\n",
    "            nums.remove(first)\n",
    "    \n",
    "    return nums\n",
    "\n",
    "assert remove_factors([1, 2]) == [1], \"Failed\"\n",
    "assert remove_factors([3, 2, 6]) == [2, 3], \"Failed\"\n",
    "assert remove_factors([4, 23, 23, 23]) == [4, 23], \"Failed\""
   ]
  },
  {
   "cell_type": "code",
   "execution_count": 82,
   "metadata": {},
   "outputs": [],
   "source": [
    "import itertools\n",
    "import operator\n",
    "from functools import reduce\n",
    "\n",
    "def gcd(a, b):\n",
    "    if a == b:\n",
    "        return a\n",
    "    \n",
    "    while True:\n",
    "        a, b = (a, b) if a >= b else (b, a)\n",
    "        a, b = (a - b, b)\n",
    "        if a == b:\n",
    "            return int(a)\n",
    "\n",
    "def lcm(a, b):\n",
    "    return int((a*b)/gcd(a, b))\n",
    "\n",
    "def sum_up_to_multiples(num, limit):\n",
    "    exclusive_limit = limit - 1\n",
    "    num_limit = exclusive_limit - exclusive_limit%num\n",
    "    \n",
    "    return num*((num_limit/num)**2 + num_limit/num)/2\n",
    "\n",
    "\n",
    "def sum_of_mutiples_of_lcm_of_subset(nums, k, limit):\n",
    "    nums = [reduce(lcm, x, 1) for x in itertools.combinations(nums, k)]\n",
    "    \n",
    "    return sum(map(sum_up_to_multiples, nums, [limit]*len(nums)))\n",
    "\n",
    "def multiples_v2(nums, limit):\n",
    "    nums = remove_factors(nums)\n",
    "    total = 0\n",
    "    \n",
    "    for index in range(1, len(nums)+1):\n",
    "        if index % 2 == 1:\n",
    "            total += sum_of_mutiples_of_lcm_of_subset(nums, index, limit)\n",
    "        else:\n",
    "            total -= sum_of_mutiples_of_lcm_of_subset(nums, index, limit)\n",
    "    \n",
    "#     total += sum_of_mutiples_of_lcm_of_subset(nums, index, limit)\n",
    "#         index += 1\n",
    "    \n",
    "    return total"
   ]
  },
  {
   "cell_type": "code",
   "execution_count": 73,
   "metadata": {},
   "outputs": [
    {
     "name": "stdout",
     "output_type": "stream",
     "text": [
      "\n",
      "\n",
      "         2       4       6       8      10      12      14      16      18      20      22      24      26      28      30  \n",
      "\n",
      "             3           6           9          12          15          18          21          24          27          30  \n",
      "\n",
      "                     5                  10                  15                  20                  25                  30  \n",
      "\n",
      "                         6                      12                      18                      24                      30  \n",
      "\n",
      "       2  3  4  5  6     8  9 10    12    14 15 16    18    20 21 22    24 25 26 27 28    30 345\n",
      "\n",
      "\n",
      "                                                                                          30 \n",
      "\n",
      "30\n"
     ]
    }
   ],
   "source": [
    "def test(nums, limit):\n",
    "    expected = multiples(nums, limit)\n",
    "    actual = multiples_v2(nums, limit)\n",
    "    assert expected == actual, f'expect {expected} got {actual}'\n",
    "    \n",
    "def print_multiples(nums, limit):\n",
    "    num_arrays = []\n",
    "    for num in nums:\n",
    "        print('\\n')\n",
    "        for i in range(limit):\n",
    "            if i in range(num, limit, num):\n",
    "                print('%2d'%i, end='  ')\n",
    "            else:\n",
    "                print('  ', end='  ')\n",
    "    num_array = multiples_array(nums, limit)\n",
    "    print('\\n')\n",
    "    for i in range(limit):\n",
    "        if i in num_array:\n",
    "            print('%2d'%i, end=' ')\n",
    "        else:\n",
    "            print('  ', end=' ')\n",
    "    print(sum(num_array))        \n",
    "    num_array = multiples_array([reduce(lcm, nums)], limit)\n",
    "    print('\\n')\n",
    "    for i in range(limit):\n",
    "        if i in num_array:\n",
    "            print('%2d'%i, end=' ')\n",
    "        else:\n",
    "            print('  ', end=' ')\n",
    "    print('\\n')\n",
    "    print(sum(num_array))        \n",
    "                           \n",
    "print_multiples([2, 3, 5, 6], 31)\n",
    "test([2, 3, 5, 6], 31)        "
   ]
  },
  {
   "cell_type": "code",
   "execution_count": 86,
   "metadata": {},
   "outputs": [
    {
     "name": "stdout",
     "output_type": "stream",
     "text": [
      "Testing [9, 6] with limit 5000 passed\n",
      "Testing [25, 36] with limit 5000 passed\n",
      "Testing [17, 15] with limit 5000 passed\n",
      "Testing [28, 11] with limit 5000 passed\n",
      "Testing [24, 9] with limit 5000 passed\n",
      "Testing [10, 22] with limit 5000 passed\n",
      "Testing [11, 27] with limit 5000 passed\n",
      "Testing [27, 33] with limit 5000 passed\n",
      "Testing [21, 19] with limit 5000 passed\n",
      "Testing [8, 29] with limit 5000 passed\n",
      "Testing [9, 34] with limit 5000 passed\n",
      "Testing [3, 38] with limit 5000 passed\n",
      "Testing [34, 22] with limit 5000 passed\n",
      "Testing [28, 21] with limit 5000 passed\n",
      "Testing [21, 33] with limit 5000 passed\n",
      "Testing [5, 19] with limit 5000 passed\n",
      "Testing [23, 3] with limit 5000 passed\n",
      "Testing [33, 30] with limit 5000 passed\n",
      "Testing [36, 10] with limit 5000 passed\n",
      "Testing [21, 26] with limit 5000 passed\n",
      "test [2, 3, 5] with limit 30 passed\n",
      "\n",
      "#############################\n",
      "3 factors test\n",
      "#############################\n",
      "Pass: 30000. Fail: 0\n"
     ]
    }
   ],
   "source": [
    "import random\n",
    "\n",
    "\n",
    "assert multiples_v2([1], 100) == 4950, \"Multiples of 1 in the range of 1 to 100 inclusive should equal 5050\"\n",
    "assert multiples_v2([3, 5], 1000) == 233168, \"Multiples of 3, 5 in the range of 1 to 1000 inclusive should equal 233168\"\n",
    "# assert multiples_v2([], 1000) == 0, \"Multiples of 3, 5 in the range of 1 to 1000 inclusive should equal 233168\"\n",
    "def test(nums, limit):\n",
    "    expected = multiples(nums, limit)\n",
    "    actual = multiples_v2(nums, limit)\n",
    "    assert expected == actual, f'expect {expected} got {actual}'\n",
    "    print('test %s with limit %s passed'%(nums, limit))\n",
    "    \n",
    "limit = 5000\n",
    "choices_range = list(range(1, 40))\n",
    "factor = 2\n",
    "for i in range(20):\n",
    "    test_array = random.choices(choices_range, k=factor)\n",
    "    \n",
    "    expected = multiples(test_array, limit)\n",
    "    actual = multiples_v2(test_array, limit)\n",
    "    \n",
    "    if expected == actual:\n",
    "        print(f'Testing {test_array} with limit {limit} passed') \n",
    "    else:\n",
    "        print(f'Testing {test_array} with limit {limit} ===================== failed. Expect {expected} got {actual} diff: {actual - expected}')\n",
    "\n",
    "test([2, 3, 5], 30)\n",
    "print('\\n#############################')\n",
    "print('3 factors test')\n",
    "print('#############################')\n",
    "factor = 5\n",
    "limit = 1000\n",
    "passed = 0\n",
    "failed = 0\n",
    "for i in range(30000):\n",
    "    test_array = random.choices(choices_range, k=factor)\n",
    "    \n",
    "    expected = multiples(test_array, limit)\n",
    "    actual = multiples_v2(test_array, limit)\n",
    "    \n",
    "    if expected == actual:\n",
    "        passed += 1\n",
    "#         print(f'Testing {test_array} with limit {limit} passed') \n",
    "    else:\n",
    "        failed += 1\n",
    "        print(f'Testing {test_array} with limit {limit} ===================== failed. Expect {expected} got {actual} diff: {actual - expected}')    \n",
    "print('Pass: %d. Fail: %d'%(passed, failed))"
   ]
  },
  {
   "cell_type": "code",
   "execution_count": 83,
   "metadata": {},
   "outputs": [
    {
     "name": "stdout",
     "output_type": "stream",
     "text": [
      "test [6, 15, 10, 4] with limit 100 passed\n",
      "\n",
      "\n",
      "                         6                      12                      18                      24                      30                      36                      42                      48                      54                      60                      66                      72                      78                      84                      90                      96              \n",
      "\n",
      "                                                            15                                                          30                                                          45                                                          60                                                          75                                                          90                                      \n",
      "\n",
      "                                        10                                      20                                      30                                      40                                      50                                      60                                      70                                      80                                      90                                      \n",
      "\n",
      "                 4               8              12              16              20              24              28              32              36              40              44              48              52              56              60              64              68              72              76              80              84              88              92              96              \n",
      "\n",
      "             4     6     8    10    12       15 16    18    20          24          28    30    32          36          40    42    44 45       48    50    52    54    56          60          64    66    68    70    72       75 76    78    80          84          88    90    92          96          1849\n",
      "\n",
      "\n",
      "                                                                                                                                                                                    60                                                                                                                      \n",
      "\n",
      "60\n"
     ]
    }
   ],
   "source": [
    "test([6, 15, 10, 4], 100)\n",
    "print_multiples([6, 15, 10, 4], 100)"
   ]
  },
  {
   "cell_type": "code",
   "execution_count": 101,
   "metadata": {},
   "outputs": [
    {
     "name": "stdout",
     "output_type": "stream",
     "text": [
      "0.00024069999972198275\n"
     ]
    }
   ],
   "source": [
    "import timeit\n",
    "\n",
    "setup = '''\n",
    "nums = [2, 3, 5, 7, 11, 13]\n",
    "limit = 100000000000000\n",
    "'''\n",
    "\n",
    "# print(timeit.timeit(setup=setup, stmt='multiples(nums, limit)', globals=globals(), number = 1))\n",
    "print(timeit.timeit(setup=setup, stmt='multiples_v2(nums, limit)', globals=globals(), number = 1))"
   ]
  },
  {
   "cell_type": "code",
   "execution_count": 25,
   "metadata": {},
   "outputs": [
    {
     "data": {
      "text/plain": [
       "0.11340269999999464"
      ]
     },
     "execution_count": 25,
     "metadata": {},
     "output_type": "execute_result"
    }
   ],
   "source": [
    "import timeit\n",
    "from functools import reduce\n",
    "from itertools import accumulate\n",
    "\n",
    "setup = '''\n",
    "from functools import reduce\n",
    "'''\n",
    "stmt1 = '''\n",
    "result = 0\n",
    "for i in range(10000):\n",
    "    result += i\n",
    "# print(result)\n",
    "'''\n",
    "\n",
    "stmt2 = '''\n",
    "result = reduce(lambda x, y: x + y, [i for i in range(10000)], 0)\n",
    "# print(result)\n",
    "'''\n",
    "\n",
    "stmt3 = '''\n",
    "result = sum([i for i in range(10000)])\n",
    "# print(result)\n",
    "'''\n",
    "\n",
    "timeit.timeit(setup=setup, stmt=stmt1, number=300)\n"
   ]
  }
 ],
 "metadata": {
  "kernelspec": {
   "display_name": "Python 3",
   "language": "python",
   "name": "python3"
  },
  "language_info": {
   "codemirror_mode": {
    "name": "ipython",
    "version": 3
   },
   "file_extension": ".py",
   "mimetype": "text/x-python",
   "name": "python",
   "nbconvert_exporter": "python",
   "pygments_lexer": "ipython3",
   "version": "3.8.2"
  }
 },
 "nbformat": 4,
 "nbformat_minor": 4
}
