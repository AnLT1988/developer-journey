{
 "cells": [
  {
   "cell_type": "code",
   "execution_count": 21,
   "metadata": {},
   "outputs": [],
   "source": [
    "def parent_function():\n",
    "    parrent_attr = \"Parent\"\n",
    "    print('Inside the parent_function')\n",
    "    print('original parrent_attr id:', id(parrent_attr))\n",
    "    \n",
    "    def first_child():\n",
    "        print('I can access parrent_attr: {}'.format(parrent_attr))\n",
    "        print('parrent_attr in first_child has id:', id(parrent_attr))\n",
    "        \n",
    "    def second_child(new_value):\n",
    "        nonlocal parrent_attr\n",
    "        print('I can also access parrent_attr: {}'.format(parrent_attr))\n",
    "        print('parrent_attr in second_child has id:', id(parrent_attr))\n",
    "        print('But I can change my parent value')\n",
    "        parrent_attr = new_value\n",
    "        print('New parrent_attr is: {}'.format(parrent_attr))\n",
    "        print('parrent_attr in second_child has id:', id(parrent_attr))\n",
    "        \n",
    "    return first_child, second_child"
   ]
  },
  {
   "cell_type": "code",
   "execution_count": 22,
   "metadata": {},
   "outputs": [
    {
     "name": "stdout",
     "output_type": "stream",
     "text": [
      "Inside the parent_function\n",
      "original parrent_attr id: 3021941428144\n",
      "first_child: <function parent_function.<locals>.first_child at 0x000002BF99D92160>\n",
      "second_child: <function parent_function.<locals>.second_child at 0x000002BF99D929D0>\n"
     ]
    }
   ],
   "source": [
    "fi_child, se_child = parent_function()\n",
    "print('first_child:', fi_child)\n",
    "print('second_child:', se_child)"
   ]
  },
  {
   "cell_type": "code",
   "execution_count": 29,
   "metadata": {},
   "outputs": [
    {
     "name": "stdout",
     "output_type": "stream",
     "text": [
      "I can access parrent_attr: This\n",
      "parrent_attr in first_child has id: 3021862153776\n",
      "I can also access parrent_attr: This\n",
      "parrent_attr in second_child has id: 3021862153776\n",
      "But I can change my parent value\n",
      "New parrent_attr is: This\n",
      "parrent_attr in second_child has id: 3021862153776\n"
     ]
    }
   ],
   "source": [
    "fi_child()\n",
    "se_child(\"This\")\n",
    "# \"Parent\" = 3021941428144\n",
    "# \"This\" = 3021862153776"
   ]
  }
 ],
 "metadata": {
  "kernelspec": {
   "display_name": "Python 3",
   "language": "python",
   "name": "python3"
  },
  "language_info": {
   "codemirror_mode": {
    "name": "ipython",
    "version": 3
   },
   "file_extension": ".py",
   "mimetype": "text/x-python",
   "name": "python",
   "nbconvert_exporter": "python",
   "pygments_lexer": "ipython3",
   "version": "3.8.2"
  }
 },
 "nbformat": 4,
 "nbformat_minor": 4
}
