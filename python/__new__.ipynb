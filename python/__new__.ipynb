{
 "cells": [
  {
   "cell_type": "code",
   "execution_count": null,
   "metadata": {},
   "outputs": [],
   "source": [
    "{ \"Schedule\": { \"conferences\": [{\" serial\": 115 }], \"events\": [ { \"serial\": 34505, \"name\": \"Why Schools Don ´ t Use Open Source to Teach Programming\", \"event_type\": \"40-minute conference session\", \"time_start\": \"2014-07-23 11: 30: 00\", \"time_stop\": \"2014-07-23 12: 10: 00\", \"venue_serial\": 1462, \"description\": \"Aside from the fact that high school programming...\", \"website_url\": \"http:// oscon.com/ oscon2014/ public/ schedule/ detail/ 34505\", \"speakers\": [157509], \"categories\": [\" Education\"] } ], \"speakers\": [ { \"serial\": 157509, \"name\": \"Robert Lefkowitz\", \"photo\": null, \"url\": \"http:// sharewave.com/\", \"position\": \"CTO\", \"affiliation\": \"Sharewave\", \"twitter\": \"sharewaveteam\", \"bio\": \"Robert ´ r0ml ´ Lefkowitz is the CTO at Sharewave, a startup...\" } ], \"venues\": [ { \"serial\": 1462, \"name\": \"F151\", \"category\": \"Conference Venues\" }\n",
    "\n",
    "Ramalho, Luciano. Fluent Python (p. 608). O'Reilly Media. Kindle Edition. "
   ]
  },
  {
   "cell_type": "code",
   "execution_count": 15,
   "metadata": {},
   "outputs": [],
   "source": [
    "class MyClass:\n",
    "    \n",
    "    def __new__(cls, arg):\n",
    "        print(f'__new__({cls}, {arg})')\n",
    "        return super().__new__(cls)\n",
    "    \n",
    "    def __init__(self, value):\n",
    "        print(f'__init__({self}, {value})')\n",
    "        self.value = value\n",
    "        \n",
    "    def show(self):\n",
    "        print(self.value)"
   ]
  },
  {
   "cell_type": "code",
   "execution_count": 16,
   "metadata": {},
   "outputs": [
    {
     "name": "stdout",
     "output_type": "stream",
     "text": [
      "__new__(<class '__main__.MyClass'>, An)\n",
      "__init__(<__main__.MyClass object at 0x000001F9C91287C0>, An)\n"
     ]
    },
    {
     "data": {
      "text/plain": [
       "<__main__.MyClass at 0x1f9c91287c0>"
      ]
     },
     "execution_count": 16,
     "metadata": {},
     "output_type": "execute_result"
    }
   ],
   "source": [
    "my_obj = MyClass('An')\n",
    "my_obj"
   ]
  },
  {
   "cell_type": "markdown",
   "metadata": {},
   "source": [
    "# The basics\n",
    "1. when a class in instantiated, the class method `__new__()` will be invoked.\n",
    "2. `__new__()` is supposed to return an `instance`\n",
    "3. then the instance's `__init__()` will be invoked to initialize the instance\n",
    "\n",
    "__note__: it's important to understand that the returned instance is not necessarily an object of the class whose `__new__()` was invoked (in order to create the instance in the first place). Only when the returned instance is of the **same class whose `__new__()`** was invoked, then `__init__()` method of that class will be called.<br>\n",
    "if instance of a different class is returned, `__init__()` method of such instance will **NOT** be called.\n",
    "\n",
    "Consider below example:"
   ]
  },
  {
   "cell_type": "code",
   "execution_count": 22,
   "metadata": {},
   "outputs": [
    {
     "name": "stdout",
     "output_type": "stream",
     "text": [
      "__new__(<class '__main__.MyClass'>, Hi)\n"
     ]
    },
    {
     "data": {
      "text/plain": [
       "<__main__.YourClass at 0x1f9c92e1700>"
      ]
     },
     "execution_count": 22,
     "metadata": {},
     "output_type": "execute_result"
    }
   ],
   "source": [
    "class YourClass:\n",
    "    \n",
    "    def __init__(self):\n",
    "        print('__init__ of YourClass is called')\n",
    "        \n",
    "class MyClass:\n",
    "    \n",
    "    def __new__(cls, arg):\n",
    "        print(f'__new__({cls}, {arg})')\n",
    "        \n",
    "        return super().__new__(YourClass)\n",
    "    \n",
    "    def __init__(self, value):\n",
    "        print(f'__init__({self}, {value})')\n",
    "        self.value = value\n",
    "        \n",
    "    def show(self):\n",
    "        print(self.value)\n",
    "        \n",
    "        \n",
    "my_obj = MyClass('Hi')\n",
    "my_obj"
   ]
  },
  {
   "cell_type": "markdown",
   "metadata": {},
   "source": [
    "An instance of `YourClass` was created (via `__new__()` method of `MyClass` superclass, which is `object`) and return. However, the `__init__()` of `YourClass` has never been called."
   ]
  },
  {
   "cell_type": "code",
   "execution_count": 26,
   "metadata": {},
   "outputs": [
    {
     "name": "stdout",
     "output_type": "stream",
     "text": [
      "__new__(<class '__main__.MyClass'>, 0)\n",
      "__init__(<__main__.MyClass object at 0x000001F9C95CA640>, 0)\n"
     ]
    },
    {
     "data": {
      "text/plain": [
       "<__main__.MyClass at 0x1f9c95ca640>"
      ]
     },
     "execution_count": 26,
     "metadata": {},
     "output_type": "execute_result"
    }
   ],
   "source": [
    "class MyClass:\n",
    "    \n",
    "    def __new__(cls, arg):\n",
    "        print(f'__new__({cls}, {arg})')\n",
    "        if arg == 0:\n",
    "            return super().__new__(MyClass)  # Return an empty instance\n",
    "        \n",
    "        return 0\n",
    "    \n",
    "    def __init__(self, value):\n",
    "        print(f'__init__({self}, {value})')\n",
    "        self.value = value\n",
    "        \n",
    "    def show(self):\n",
    "        print(self.value)\n",
    "        \n",
    "        \n",
    "my_obj = MyClass(0)\n",
    "my_obj"
   ]
  }
 ],
 "metadata": {
  "kernelspec": {
   "display_name": "Python 3",
   "language": "python",
   "name": "python3"
  },
  "language_info": {
   "codemirror_mode": {
    "name": "ipython",
    "version": 3
   },
   "file_extension": ".py",
   "mimetype": "text/x-python",
   "name": "python",
   "nbconvert_exporter": "python",
   "pygments_lexer": "ipython3",
   "version": "3.8.2"
  }
 },
 "nbformat": 4,
 "nbformat_minor": 4
}
