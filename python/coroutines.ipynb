{
 "cells": [
  {
   "cell_type": "code",
   "execution_count": 8,
   "metadata": {},
   "outputs": [],
   "source": [
    "def running_avg():\n",
    "    print('Start running average')\n",
    "    number = 0\n",
    "    numbers = 0\n",
    "    total = 0\n",
    "    while True:\n",
    "        total += yield number\n",
    "        numbers += 1\n",
    "        avg = total/numbers\n",
    "        print('The current average is:', avg)"
   ]
  },
  {
   "cell_type": "code",
   "execution_count": 18,
   "metadata": {},
   "outputs": [
    {
     "name": "stdout",
     "output_type": "stream",
     "text": [
      "Start running average\n",
      "The current average is: 10.0\n",
      "The current average is: 8.0\n",
      "The current average is: 15.0\n"
     ]
    },
    {
     "ename": "StopIteration",
     "evalue": "",
     "output_type": "error",
     "traceback": [
      "\u001b[1;31m---------------------------------------------------------------------------\u001b[0m",
      "\u001b[1;31mStopIteration\u001b[0m                             Traceback (most recent call last)",
      "\u001b[1;32m<ipython-input-18-ed0bc993f764>\u001b[0m in \u001b[0;36m<module>\u001b[1;34m\u001b[0m\n\u001b[0;32m      5\u001b[0m \u001b[0mavger\u001b[0m\u001b[1;33m.\u001b[0m\u001b[0msend\u001b[0m\u001b[1;33m(\u001b[0m\u001b[1;36m29\u001b[0m\u001b[1;33m)\u001b[0m\u001b[1;33m\u001b[0m\u001b[1;33m\u001b[0m\u001b[0m\n\u001b[0;32m      6\u001b[0m \u001b[0mavger\u001b[0m\u001b[1;33m.\u001b[0m\u001b[0mclose\u001b[0m\u001b[1;33m(\u001b[0m\u001b[1;33m)\u001b[0m\u001b[1;33m\u001b[0m\u001b[1;33m\u001b[0m\u001b[0m\n\u001b[1;32m----> 7\u001b[1;33m \u001b[0mavger\u001b[0m\u001b[1;33m.\u001b[0m\u001b[0msend\u001b[0m\u001b[1;33m(\u001b[0m\u001b[1;36m29\u001b[0m\u001b[1;33m)\u001b[0m\u001b[1;33m\u001b[0m\u001b[1;33m\u001b[0m\u001b[0m\n\u001b[0m",
      "\u001b[1;31mStopIteration\u001b[0m: "
     ]
    }
   ],
   "source": [
    "avger = running_avg()\n",
    "avger.send(None)\n",
    "avger.send(10)\n",
    "avger.send(6)\n",
    "avger.send(29)\n",
    "avger.close()\n",
    "avger.send(29)\n"
   ]
  },
  {
   "cell_type": "code",
   "execution_count": 22,
   "metadata": {},
   "outputs": [
    {
     "name": "stdout",
     "output_type": "stream",
     "text": [
      "Coroutine starts\n",
      "Being closed\n"
     ]
    }
   ],
   "source": [
    "def finite_coroutine():\n",
    "    print('Coroutine starts')\n",
    "    try:\n",
    "        value = yield\n",
    "    except GeneratorExit:\n",
    "        print('Being closed')\n",
    "        return\n",
    "    print('Receive value {} and stops'.format(value))\n",
    "    \n",
    "coro = finite_coroutine()\n",
    "coro.send(None)\n",
    "coro.close()"
   ]
  },
  {
   "cell_type": "code",
   "execution_count": 18,
   "metadata": {},
   "outputs": [
    {
     "name": "stdout",
     "output_type": "stream",
     "text": [
      "proxy is started\n",
      "another_proxy is started\n",
      "I'm the real deal\n",
      "Getting value from client: value\n",
      "None\n",
      "Getting value from client: Another value\n"
     ]
    },
    {
     "ename": "ValueError",
     "evalue": "",
     "output_type": "error",
     "traceback": [
      "\u001b[1;31m---------------------------------------------------------------------------\u001b[0m",
      "\u001b[1;31mValueError\u001b[0m                                Traceback (most recent call last)",
      "\u001b[1;32m<ipython-input-18-5c4310639d1e>\u001b[0m in \u001b[0;36m<module>\u001b[1;34m\u001b[0m\n\u001b[0;32m     30\u001b[0m \u001b[0mprint\u001b[0m\u001b[1;33m(\u001b[0m\u001b[0mresult\u001b[0m\u001b[1;33m)\u001b[0m\u001b[1;33m\u001b[0m\u001b[1;33m\u001b[0m\u001b[0m\n\u001b[0;32m     31\u001b[0m \u001b[0mresult\u001b[0m \u001b[1;33m=\u001b[0m \u001b[0mprx\u001b[0m\u001b[1;33m.\u001b[0m\u001b[0msend\u001b[0m\u001b[1;33m(\u001b[0m\u001b[1;34m'Another value'\u001b[0m\u001b[1;33m)\u001b[0m\u001b[1;33m\u001b[0m\u001b[1;33m\u001b[0m\u001b[0m\n\u001b[1;32m---> 32\u001b[1;33m \u001b[0mprx\u001b[0m\u001b[1;33m.\u001b[0m\u001b[0mthrow\u001b[0m\u001b[1;33m(\u001b[0m\u001b[0mValueError\u001b[0m\u001b[1;33m)\u001b[0m\u001b[1;33m\u001b[0m\u001b[1;33m\u001b[0m\u001b[0m\n\u001b[0m\u001b[0;32m     33\u001b[0m \u001b[0mresult\u001b[0m \u001b[1;33m=\u001b[0m \u001b[0mprx\u001b[0m\u001b[1;33m.\u001b[0m\u001b[0msend\u001b[0m\u001b[1;33m(\u001b[0m\u001b[1;32mNone\u001b[0m\u001b[1;33m)\u001b[0m\u001b[1;33m\u001b[0m\u001b[1;33m\u001b[0m\u001b[0m\n\u001b[0;32m     34\u001b[0m \u001b[0mresult\u001b[0m \u001b[1;33m=\u001b[0m \u001b[0mprx\u001b[0m\u001b[1;33m.\u001b[0m\u001b[0msend\u001b[0m\u001b[1;33m(\u001b[0m\u001b[1;34m'value again'\u001b[0m\u001b[1;33m)\u001b[0m\u001b[1;33m\u001b[0m\u001b[1;33m\u001b[0m\u001b[0m\n",
      "\u001b[1;32m<ipython-input-18-5c4310639d1e>\u001b[0m in \u001b[0;36mproxy\u001b[1;34m()\u001b[0m\n\u001b[0;32m      1\u001b[0m \u001b[1;32mdef\u001b[0m \u001b[0mproxy\u001b[0m\u001b[1;33m(\u001b[0m\u001b[1;33m)\u001b[0m\u001b[1;33m:\u001b[0m\u001b[1;33m\u001b[0m\u001b[1;33m\u001b[0m\u001b[0m\n\u001b[0;32m      2\u001b[0m     \u001b[0mprint\u001b[0m\u001b[1;33m(\u001b[0m\u001b[1;34m'proxy is started'\u001b[0m\u001b[1;33m)\u001b[0m\u001b[1;33m\u001b[0m\u001b[1;33m\u001b[0m\u001b[0m\n\u001b[1;32m----> 3\u001b[1;33m     \u001b[0mresult\u001b[0m \u001b[1;33m=\u001b[0m \u001b[1;32myield\u001b[0m \u001b[1;32mfrom\u001b[0m \u001b[0manother_proxy\u001b[0m\u001b[1;33m(\u001b[0m\u001b[1;33m)\u001b[0m\u001b[1;33m\u001b[0m\u001b[1;33m\u001b[0m\u001b[0m\n\u001b[0m\u001b[0;32m      4\u001b[0m     \u001b[0mprint\u001b[0m\u001b[1;33m(\u001b[0m\u001b[1;34m'Resume to proxy with result'\u001b[0m\u001b[1;33m,\u001b[0m \u001b[0mresult\u001b[0m\u001b[1;33m)\u001b[0m\u001b[1;33m\u001b[0m\u001b[1;33m\u001b[0m\u001b[0m\n\u001b[0;32m      5\u001b[0m     \u001b[1;32myield\u001b[0m \u001b[0mresult\u001b[0m\u001b[1;33m\u001b[0m\u001b[1;33m\u001b[0m\u001b[0m\n",
      "\u001b[1;32m<ipython-input-18-5c4310639d1e>\u001b[0m in \u001b[0;36manother_proxy\u001b[1;34m()\u001b[0m\n\u001b[0;32m      9\u001b[0m \u001b[1;32mdef\u001b[0m \u001b[0manother_proxy\u001b[0m\u001b[1;33m(\u001b[0m\u001b[1;33m)\u001b[0m\u001b[1;33m:\u001b[0m\u001b[1;33m\u001b[0m\u001b[1;33m\u001b[0m\u001b[0m\n\u001b[0;32m     10\u001b[0m     \u001b[0mprint\u001b[0m\u001b[1;33m(\u001b[0m\u001b[1;34m'another_proxy is started'\u001b[0m\u001b[1;33m)\u001b[0m\u001b[1;33m\u001b[0m\u001b[1;33m\u001b[0m\u001b[0m\n\u001b[1;32m---> 11\u001b[1;33m     \u001b[0mresult\u001b[0m \u001b[1;33m=\u001b[0m \u001b[1;32myield\u001b[0m \u001b[1;32mfrom\u001b[0m \u001b[0mreal_gen\u001b[0m\u001b[1;33m(\u001b[0m\u001b[1;33m)\u001b[0m\u001b[1;33m\u001b[0m\u001b[1;33m\u001b[0m\u001b[0m\n\u001b[0m\u001b[0;32m     12\u001b[0m     \u001b[0mprint\u001b[0m\u001b[1;33m(\u001b[0m\u001b[1;34m'Resume to another_proxy with result'\u001b[0m\u001b[1;33m,\u001b[0m \u001b[0mresult\u001b[0m\u001b[1;33m)\u001b[0m\u001b[1;33m\u001b[0m\u001b[1;33m\u001b[0m\u001b[0m\n\u001b[0;32m     13\u001b[0m     \u001b[0mprint\u001b[0m\u001b[1;33m(\u001b[0m\u001b[1;34m\"I don't want to return yet, waiting here for value\"\u001b[0m\u001b[1;33m)\u001b[0m\u001b[1;33m\u001b[0m\u001b[1;33m\u001b[0m\u001b[0m\n",
      "\u001b[1;32m<ipython-input-18-5c4310639d1e>\u001b[0m in \u001b[0;36mreal_gen\u001b[1;34m()\u001b[0m\n\u001b[0;32m     19\u001b[0m     \u001b[0mprint\u001b[0m\u001b[1;33m(\u001b[0m\u001b[1;34m\"I'm the real deal\"\u001b[0m\u001b[1;33m)\u001b[0m\u001b[1;33m\u001b[0m\u001b[1;33m\u001b[0m\u001b[0m\n\u001b[0;32m     20\u001b[0m     \u001b[1;32mwhile\u001b[0m \u001b[1;32mTrue\u001b[0m\u001b[1;33m:\u001b[0m\u001b[1;33m\u001b[0m\u001b[1;33m\u001b[0m\u001b[0m\n\u001b[1;32m---> 21\u001b[1;33m         \u001b[0mresult\u001b[0m \u001b[1;33m=\u001b[0m \u001b[1;32myield\u001b[0m\u001b[1;33m\u001b[0m\u001b[1;33m\u001b[0m\u001b[0m\n\u001b[0m\u001b[0;32m     22\u001b[0m         \u001b[1;32mif\u001b[0m \u001b[0mresult\u001b[0m \u001b[1;32mis\u001b[0m \u001b[1;32mNone\u001b[0m\u001b[1;33m:\u001b[0m\u001b[1;33m\u001b[0m\u001b[1;33m\u001b[0m\u001b[0m\n\u001b[0;32m     23\u001b[0m             \u001b[1;32mreturn\u001b[0m \u001b[1;34m'inner'\u001b[0m\u001b[1;33m\u001b[0m\u001b[1;33m\u001b[0m\u001b[0m\n",
      "\u001b[1;31mValueError\u001b[0m: "
     ]
    }
   ],
   "source": [
    "\n",
    "def proxy():\n",
    "    print('proxy is started')\n",
    "    result = yield from another_proxy()\n",
    "    print('Resume to proxy with result', result)\n",
    "    yield result\n",
    "    print ('Resume to proxy again')\n",
    "    \n",
    "    \n",
    "def another_proxy():\n",
    "    print('another_proxy is started')\n",
    "    result = yield from real_gen()\n",
    "    print('Resume to another_proxy with result', result)\n",
    "    print(\"I don't want to return yet, waiting here for value\")\n",
    "    own_value = yield\n",
    "    print(\"Resume again to another_proxy with result:\", own_value)\n",
    "    return result\n",
    "\n",
    "def real_gen():\n",
    "    print(\"I'm the real deal\")\n",
    "    while True:\n",
    "        result = yield\n",
    "        if result is None:\n",
    "            return 'inner'\n",
    "        \n",
    "        print('Getting value from client:', result)\n",
    "\n",
    "prx = proxy()\n",
    "next(prx)\n",
    "result = prx.send('value')\n",
    "print(result)\n",
    "result = prx.send('Another value')\n",
    "prx.throw(ValueError)\n",
    "result = prx.send(None)\n",
    "result = prx.send('value again')\n"
   ]
  },
  {
   "cell_type": "code",
   "execution_count": 19,
   "metadata": {},
   "outputs": [
    {
     "name": "stdout",
     "output_type": "stream",
     "text": [
      "start gen\n"
     ]
    },
    {
     "ename": "ValueError",
     "evalue": "",
     "output_type": "error",
     "traceback": [
      "\u001b[1;31m---------------------------------------------------------------------------\u001b[0m",
      "\u001b[1;31mValueError\u001b[0m                                Traceback (most recent call last)",
      "\u001b[1;32m<ipython-input-19-ff1ee16ba8a3>\u001b[0m in \u001b[0;36m<module>\u001b[1;34m\u001b[0m\n\u001b[0;32m      7\u001b[0m \u001b[0mgen\u001b[0m \u001b[1;33m=\u001b[0m \u001b[0mnormal_gen\u001b[0m\u001b[1;33m(\u001b[0m\u001b[1;33m)\u001b[0m\u001b[1;33m\u001b[0m\u001b[1;33m\u001b[0m\u001b[0m\n\u001b[0;32m      8\u001b[0m \u001b[0mnext\u001b[0m\u001b[1;33m(\u001b[0m\u001b[0mgen\u001b[0m\u001b[1;33m)\u001b[0m\u001b[1;33m\u001b[0m\u001b[1;33m\u001b[0m\u001b[0m\n\u001b[1;32m----> 9\u001b[1;33m \u001b[0mgen\u001b[0m\u001b[1;33m.\u001b[0m\u001b[0mthrow\u001b[0m\u001b[1;33m(\u001b[0m\u001b[0mValueError\u001b[0m\u001b[1;33m)\u001b[0m\u001b[1;33m\u001b[0m\u001b[1;33m\u001b[0m\u001b[0m\n\u001b[0m\u001b[0;32m     10\u001b[0m \u001b[0mnext\u001b[0m\u001b[1;33m(\u001b[0m\u001b[0mgen\u001b[0m\u001b[1;33m)\u001b[0m\u001b[1;33m\u001b[0m\u001b[1;33m\u001b[0m\u001b[0m\n",
      "\u001b[1;32m<ipython-input-19-ff1ee16ba8a3>\u001b[0m in \u001b[0;36mnormal_gen\u001b[1;34m()\u001b[0m\n\u001b[0;32m      1\u001b[0m \u001b[1;32mdef\u001b[0m \u001b[0mnormal_gen\u001b[0m\u001b[1;33m(\u001b[0m\u001b[1;33m)\u001b[0m\u001b[1;33m:\u001b[0m\u001b[1;33m\u001b[0m\u001b[1;33m\u001b[0m\u001b[0m\n\u001b[0;32m      2\u001b[0m     \u001b[0mprint\u001b[0m\u001b[1;33m(\u001b[0m\u001b[1;34m\"start gen\"\u001b[0m\u001b[1;33m)\u001b[0m\u001b[1;33m\u001b[0m\u001b[1;33m\u001b[0m\u001b[0m\n\u001b[1;32m----> 3\u001b[1;33m     \u001b[1;32myield\u001b[0m\u001b[1;33m\u001b[0m\u001b[1;33m\u001b[0m\u001b[0m\n\u001b[0m\u001b[0;32m      4\u001b[0m     \u001b[0mprint\u001b[0m\u001b[1;33m(\u001b[0m\u001b[1;34m\"result gen\"\u001b[0m\u001b[1;33m)\u001b[0m\u001b[1;33m\u001b[0m\u001b[1;33m\u001b[0m\u001b[0m\n\u001b[0;32m      5\u001b[0m     \u001b[0mprint\u001b[0m\u001b[1;33m(\u001b[0m\u001b[1;34m\"do something\"\u001b[0m\u001b[1;33m)\u001b[0m\u001b[1;33m\u001b[0m\u001b[1;33m\u001b[0m\u001b[0m\n",
      "\u001b[1;31mValueError\u001b[0m: "
     ]
    }
   ],
   "source": [
    "def normal_gen():\n",
    "    print(\"start gen\")\n",
    "    yield\n",
    "    print(\"result gen\")\n",
    "    print(\"do something\")\n",
    "    \n",
    "gen = normal_gen()\n",
    "next(gen)\n",
    "gen.throw(ValueError)\n",
    "next(gen)"
   ]
  },
  {
   "cell_type": "code",
   "execution_count": 20,
   "metadata": {},
   "outputs": [
    {
     "name": "stdout",
     "output_type": "stream",
     "text": [
      "<_MainThread(MainThread, started 21664)>\n",
      "<Thread(ThreadPoolExecutor-15_0, started daemon 22632)>\n",
      "Going to sleep first\n",
      "Hello - Future submitted: <Future at 0x1ce3edabf70 state=running>\n",
      "<Thread(ThreadPoolExecutor-15_1, started daemon 7112)>There - Future submitted: <Future at 0x1ce3e7e5f70 state=running>\n",
      "<Thread(ThreadPoolExecutor-15_2, started daemon 22744)>\n",
      "Going to sleep first\n",
      "I\n",
      "Going to sleep first\n",
      " - Future submitted: <Future at 0x1ce3e8a5a60 state=running>\n",
      "<Thread(ThreadPoolExecutor-15_3, started daemon 8096)>Love - Future submitted: <Future at 0x1ce3ef398b0 state=running>\n",
      "\n",
      "Going to sleep first\n",
      "<Thread(ThreadPoolExecutor-15_4, started daemon 10620)>\n",
      "Going to sleep first\n",
      "You - Future submitted: <Future at 0x1ce3ea72e50 state=running>\n",
      "<Thread(ThreadPoolExecutor-15_5, started daemon 19288)>\n",
      "[<Future at 0x1ce3edabf70 state=running>, <Future at 0x1ce3e7e5f70 state=running>, <Future at 0x1ce3e8a5a60 state=running>, <Future at 0x1ce3ef398b0 state=running>, <Future at 0x1ce3ea72e50 state=running>]\n",
      "Printing message:Printing message: Hello\n",
      "Printing message: You\n",
      "Printing message: Love\n",
      "Printing message: There\n",
      " I\n",
      "Exiting,Exiting,Exiting,Exiting,Exiting, You\n",
      " Hello\n",
      ">>>>>>>>>>>Trying to print result from future: <Future at 0x1ce3ea72e50 state=finished returned str>\n",
      "You is completed\n",
      ">>>>>>>>>>>Trying to print result from future: <Future at 0x1ce3edabf70 state=finished returned str>\n",
      "Hello is completed\n",
      " Love\n",
      " I\n",
      " >>>>>>>>>>>Trying to print result from future: <Future at 0x1ce3ef398b0 state=finished returned str>\n",
      "Love is completedThere\n",
      ">>>>>>>>>>>Trying to print result from future: <Future at 0x1ce3e8a5a60 state=finished returned str>\n",
      "\n",
      "I is completed\n",
      ">>>>>>>>>>>Trying to print result from future: <Future at 0x1ce3e7e5f70 state=finished returned str>\n",
      "There is completed\n"
     ]
    }
   ],
   "source": [
    "from concurrent import futures\n",
    "from time import sleep\n",
    "\n",
    "def lazy_task(msg):\n",
    "    print(futures.thread.threading.current_thread())\n",
    "    print('Going to sleep first')\n",
    "    sleep(2)\n",
    "    print('Printing message:', msg)\n",
    "    sleep(2)\n",
    "    print('Exiting,', msg)\n",
    "    \n",
    "    return msg + ' is completed'\n",
    "\n",
    "def show(fs):\n",
    "    print(futures.thread.threading.current_thread())\n",
    "    print(fs)\n",
    "    for future in fs:\n",
    "        print('Trying to print result from future:', future)\n",
    "        print(future.result())\n",
    "        \n",
    "def show_as_completed(fs):\n",
    "    print(futures.thread.threading.current_thread())\n",
    "    print(fs)\n",
    "    for future in futures.as_completed(fs):\n",
    "        print('>>>>>>>>>>>Trying to print result from future:', future)\n",
    "        print(future.result())\n",
    "        \n",
    "msg = ['Hello', 'There', 'I', 'Love', 'You']\n",
    "fs = []\n",
    "print(futures.thread.threading.current_thread())\n",
    "with futures.ThreadPoolExecutor(max_workers=6) as executor:\n",
    "    for m in msg:\n",
    "        future = executor.submit(lazy_task, m)\n",
    "        print(m, '- Future submitted:', future)\n",
    "        fs.append(future)\n",
    "        \n",
    "    executor.submit(show_as_completed, fs)\n"
   ]
  },
  {
   "cell_type": "code",
   "execution_count": 11,
   "metadata": {},
   "outputs": [
    {
     "data": {
      "text/plain": [
       "<_MainThread(MainThread, started 21664)>"
      ]
     },
     "execution_count": 11,
     "metadata": {},
     "output_type": "execute_result"
    }
   ],
   "source": [
    "futures.thread.threading.current_thread()."
   ]
  }
 ],
 "metadata": {
  "kernelspec": {
   "display_name": "Python 3",
   "language": "python",
   "name": "python3"
  },
  "language_info": {
   "codemirror_mode": {
    "name": "ipython",
    "version": 3
   },
   "file_extension": ".py",
   "mimetype": "text/x-python",
   "name": "python",
   "nbconvert_exporter": "python",
   "pygments_lexer": "ipython3",
   "version": "3.8.2"
  }
 },
 "nbformat": 4,
 "nbformat_minor": 4
}
