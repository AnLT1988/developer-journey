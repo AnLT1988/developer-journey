{
 "cells": [
  {
   "cell_type": "code",
   "execution_count": 9,
   "metadata": {},
   "outputs": [
    {
     "name": "stdout",
     "output_type": "stream",
     "text": [
      "Closed\n"
     ]
    }
   ],
   "source": [
    "class Door:\n",
    "\n",
    "    def __init__(self, state=\"Closed\"):\n",
    "        self.state = state\n",
    "        \n",
    "    def set_state(self, state):\n",
    "        self.state = state\n",
    "        \n",
    "    def get_state(self):\n",
    "        return self.state\n",
    "\n",
    "door = Door()\n",
    "print(door.get_state())"
   ]
  },
  {
   "cell_type": "code",
   "execution_count": 7,
   "metadata": {},
   "outputs": [],
   "source": [
    "class State:\n",
    "    \n",
    "    def __init__(self, state):\n",
    "        self.state = state\n",
    "        \n",
    "    def enter(self):\n",
    "        pass\n",
    "    \n",
    "    def exit(self):\n",
    "        pass"
   ]
  },
  {
   "cell_type": "code",
   "execution_count": 21,
   "metadata": {},
   "outputs": [],
   "source": [
    "class StateMachine:\n",
    "    \n",
    "    state_table = {\n",
    "        (\"open\", \"Opened\"): (\"Opened\"),\n",
    "        (\"close\", \"Opened\"): (\"Closed\"),\n",
    "        (\"open\", \"Closed\"): (\"Opened\"),\n",
    "        (\"close\", \"Closed\"): (\"Closed\"),\n",
    "    }\n",
    "    \n",
    "    def __init__(self, obj):\n",
    "        self.obj = obj\n",
    "        \n",
    "    def handle(self, event):\n",
    "        current_state = self.obj.get_state()\n",
    "        next_state = self.state_table.get((event, current_state))\n",
    "        print(f\"Handling event <{event}> in state <{current_state}>. Transit to state <{next_state}>\")\n",
    "        self.obj.set_state(next_state)\n",
    "        "
   ]
  },
  {
   "cell_type": "code",
   "execution_count": 17,
   "metadata": {},
   "outputs": [
    {
     "name": "stdout",
     "output_type": "stream",
     "text": [
      "Handling event <open> in state <Closed>. Transit to state <Opened>\n",
      "Handling event <close> in state <Opened>. Transit to state <Closed>\n",
      "Handling event <close> in state <Closed>. Transit to state <Closed>\n",
      "Handling event <open> in state <Closed>. Transit to state <Opened>\n",
      "Handling event <close> in state <Opened>. Transit to state <Closed>\n",
      "Handling event <open> in state <Closed>. Transit to state <Opened>\n"
     ]
    }
   ],
   "source": [
    "events = ['open', 'close', 'close', 'open', 'close', 'open']\n",
    "\n",
    "door = Door()\n",
    "machine = StateMachine(door)\n",
    "for event in events:\n",
    "    machine.handle(event)"
   ]
  },
  {
   "cell_type": "code",
   "execution_count": 18,
   "metadata": {},
   "outputs": [],
   "source": [
    "class Predicate:\n",
    "    \n",
    "    def check(self, _input):\n",
    "        if _input:\n",
    "            return True\n",
    "        return False"
   ]
  },
  {
   "cell_type": "code",
   "execution_count": null,
   "metadata": {},
   "outputs": [],
   "source": []
  },
  {
   "cell_type": "code",
   "execution_count": null,
   "metadata": {},
   "outputs": [],
   "source": []
  },
  {
   "cell_type": "code",
   "execution_count": 24,
   "metadata": {},
   "outputs": [],
   "source": [
    "class StateMachineV2:\n",
    "    \n",
    "    predicate = Predicate()\n",
    "    \n",
    "    state_table = {\n",
    "        (\"open\", \"Opened\"): (predicate, \"Opened\"),\n",
    "        (\"close\", \"Opened\"): (predicate, \"Closed\"),\n",
    "        (\"open\", \"Closed\"): (predicate, \"Opened\"),\n",
    "        (\"close\", \"Closed\"): (predicate, \"Closed\"),\n",
    "    }\n",
    "    \n",
    "    def __init__(self, obj):\n",
    "        self.obj = obj\n",
    "        \n",
    "    def handle(self, event, _input):\n",
    "        current_state = self.obj.get_state()\n",
    "        predicate, next_state = self.state_table.get((event, current_state))\n",
    "        if not predicate.check(_input):\n",
    "            print(f\"Handling event <{event}> in state <{current_state}>. Predicate fails\")\n",
    "            return\n",
    "        print(f\"Handling event <{event}> in state <{current_state}>. Transit to state <{next_state}>\")\n",
    "        self.obj.set_state(next_state)        "
   ]
  },
  {
   "cell_type": "code",
   "execution_count": 25,
   "metadata": {},
   "outputs": [
    {
     "name": "stdout",
     "output_type": "stream",
     "text": [
      "Handling event <open> in state <Closed>. Predicate fails\n",
      "Handling event <close> in state <Closed>. Predicate fails\n",
      "Handling event <close> in state <Closed>. Predicate fails\n",
      "Handling event <open> in state <Closed>. Predicate fails\n",
      "Handling event <close> in state <Closed>. Predicate fails\n",
      "Handling event <open> in state <Closed>. Predicate fails\n",
      "Handling event <open> in state <Closed>. Transit to state <Opened>\n",
      "Handling event <close> in state <Opened>. Transit to state <Closed>\n",
      "Handling event <close> in state <Closed>. Transit to state <Closed>\n",
      "Handling event <open> in state <Closed>. Transit to state <Opened>\n",
      "Handling event <close> in state <Opened>. Transit to state <Closed>\n",
      "Handling event <open> in state <Closed>. Transit to state <Opened>\n"
     ]
    }
   ],
   "source": [
    "events = ['open', 'close', 'close', 'open', 'close', 'open']\n",
    "\n",
    "door = Door()\n",
    "machine = StateMachineV2(door)\n",
    "for event in events:\n",
    "    machine.handle(event, _input=False)\n",
    "    \n",
    "for event in events:\n",
    "    machine.handle(event, _input=True)"
   ]
  }
 ],
 "metadata": {
  "kernelspec": {
   "display_name": "Python 3",
   "language": "python",
   "name": "python3"
  },
  "language_info": {
   "codemirror_mode": {
    "name": "ipython",
    "version": 3
   },
   "file_extension": ".py",
   "mimetype": "text/x-python",
   "name": "python",
   "nbconvert_exporter": "python",
   "pygments_lexer": "ipython3",
   "version": "3.8.2"
  }
 },
 "nbformat": 4,
 "nbformat_minor": 4
}
